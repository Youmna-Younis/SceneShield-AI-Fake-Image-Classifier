{
 "cells": [
  {
   "cell_type": "code",
   "execution_count": 1,
   "id": "9fbb06f5",
   "metadata": {
    "_cell_guid": "b1076dfc-b9ad-4769-8c92-a6c4dae69d19",
    "_uuid": "8f2839f25d086af736a60e9eeb907d3b93b6e0e5",
    "collapsed": true,
    "execution": {
     "iopub.execute_input": "2025-01-16T19:17:48.696816Z",
     "iopub.status.busy": "2025-01-16T19:17:48.696561Z",
     "iopub.status.idle": "2025-01-16T19:17:50.518431Z",
     "shell.execute_reply": "2025-01-16T19:17:50.510852Z"
    },
    "jupyter": {
     "outputs_hidden": true
    },
    "papermill": {
     "duration": 1.835159,
     "end_time": "2025-01-16T19:17:50.519955",
     "exception": false,
     "start_time": "2025-01-16T19:17:48.684796",
     "status": "completed"
    },
    "tags": []
   },
   "outputs": [
    {
     "name": "stdout",
     "output_type": "stream",
     "text": [
      "/kaggle/input/cidaut-ai-fake-scene-classification-2024/sample_submission.csv\n",
      "/kaggle/input/cidaut-ai-fake-scene-classification-2024/train.csv\n",
      "/kaggle/input/cidaut-ai-fake-scene-classification-2024/Test/473.jpg\n",
      "/kaggle/input/cidaut-ai-fake-scene-classification-2024/Test/537.jpg\n",
      "/kaggle/input/cidaut-ai-fake-scene-classification-2024/Test/785.jpg\n",
      "/kaggle/input/cidaut-ai-fake-scene-classification-2024/Test/239.jpg\n",
      "/kaggle/input/cidaut-ai-fake-scene-classification-2024/Test/792.jpg\n",
      "/kaggle/input/cidaut-ai-fake-scene-classification-2024/Test/109.jpg\n",
      "/kaggle/input/cidaut-ai-fake-scene-classification-2024/Test/544.jpg\n",
      "/kaggle/input/cidaut-ai-fake-scene-classification-2024/Test/576.jpg\n",
      "/kaggle/input/cidaut-ai-fake-scene-classification-2024/Test/613.jpg\n",
      "/kaggle/input/cidaut-ai-fake-scene-classification-2024/Test/243.jpg\n",
      "/kaggle/input/cidaut-ai-fake-scene-classification-2024/Test/153.jpg\n",
      "/kaggle/input/cidaut-ai-fake-scene-classification-2024/Test/143.jpg\n",
      "/kaggle/input/cidaut-ai-fake-scene-classification-2024/Test/5.jpg\n",
      "/kaggle/input/cidaut-ai-fake-scene-classification-2024/Test/824.jpg\n",
      "/kaggle/input/cidaut-ai-fake-scene-classification-2024/Test/426.jpg\n",
      "/kaggle/input/cidaut-ai-fake-scene-classification-2024/Test/440.jpg\n",
      "/kaggle/input/cidaut-ai-fake-scene-classification-2024/Test/67.jpg\n",
      "/kaggle/input/cidaut-ai-fake-scene-classification-2024/Test/768.jpg\n",
      "/kaggle/input/cidaut-ai-fake-scene-classification-2024/Test/82.jpg\n",
      "/kaggle/input/cidaut-ai-fake-scene-classification-2024/Test/490.jpg\n",
      "/kaggle/input/cidaut-ai-fake-scene-classification-2024/Test/829.jpg\n",
      "/kaggle/input/cidaut-ai-fake-scene-classification-2024/Test/811.jpg\n",
      "/kaggle/input/cidaut-ai-fake-scene-classification-2024/Test/42.jpg\n",
      "/kaggle/input/cidaut-ai-fake-scene-classification-2024/Test/291.jpg\n",
      "/kaggle/input/cidaut-ai-fake-scene-classification-2024/Test/33.jpg\n",
      "/kaggle/input/cidaut-ai-fake-scene-classification-2024/Test/234.jpg\n",
      "/kaggle/input/cidaut-ai-fake-scene-classification-2024/Test/665.jpg\n",
      "/kaggle/input/cidaut-ai-fake-scene-classification-2024/Test/130.jpg\n",
      "/kaggle/input/cidaut-ai-fake-scene-classification-2024/Test/62.jpg\n",
      "/kaggle/input/cidaut-ai-fake-scene-classification-2024/Test/353.jpg\n",
      "/kaggle/input/cidaut-ai-fake-scene-classification-2024/Test/379.jpg\n",
      "/kaggle/input/cidaut-ai-fake-scene-classification-2024/Test/73.jpg\n",
      "/kaggle/input/cidaut-ai-fake-scene-classification-2024/Test/188.jpg\n",
      "/kaggle/input/cidaut-ai-fake-scene-classification-2024/Test/274.jpg\n",
      "/kaggle/input/cidaut-ai-fake-scene-classification-2024/Test/98.jpg\n",
      "/kaggle/input/cidaut-ai-fake-scene-classification-2024/Test/480.jpg\n",
      "/kaggle/input/cidaut-ai-fake-scene-classification-2024/Test/620.jpg\n",
      "/kaggle/input/cidaut-ai-fake-scene-classification-2024/Test/559.jpg\n",
      "/kaggle/input/cidaut-ai-fake-scene-classification-2024/Test/477.jpg\n",
      "/kaggle/input/cidaut-ai-fake-scene-classification-2024/Test/94.jpg\n",
      "/kaggle/input/cidaut-ai-fake-scene-classification-2024/Test/515.jpg\n",
      "/kaggle/input/cidaut-ai-fake-scene-classification-2024/Test/664.jpg\n",
      "/kaggle/input/cidaut-ai-fake-scene-classification-2024/Test/152.jpg\n",
      "/kaggle/input/cidaut-ai-fake-scene-classification-2024/Test/368.jpg\n",
      "/kaggle/input/cidaut-ai-fake-scene-classification-2024/Test/91.jpg\n",
      "/kaggle/input/cidaut-ai-fake-scene-classification-2024/Test/435.jpg\n",
      "/kaggle/input/cidaut-ai-fake-scene-classification-2024/Test/642.jpg\n",
      "/kaggle/input/cidaut-ai-fake-scene-classification-2024/Test/660.jpg\n",
      "/kaggle/input/cidaut-ai-fake-scene-classification-2024/Test/299.jpg\n",
      "/kaggle/input/cidaut-ai-fake-scene-classification-2024/Test/494.jpg\n",
      "/kaggle/input/cidaut-ai-fake-scene-classification-2024/Test/481.jpg\n",
      "/kaggle/input/cidaut-ai-fake-scene-classification-2024/Test/46.jpg\n",
      "/kaggle/input/cidaut-ai-fake-scene-classification-2024/Test/137.jpg\n",
      "/kaggle/input/cidaut-ai-fake-scene-classification-2024/Test/455.jpg\n",
      "/kaggle/input/cidaut-ai-fake-scene-classification-2024/Test/65.jpg\n",
      "/kaggle/input/cidaut-ai-fake-scene-classification-2024/Test/719.jpg\n",
      "/kaggle/input/cidaut-ai-fake-scene-classification-2024/Test/127.jpg\n",
      "/kaggle/input/cidaut-ai-fake-scene-classification-2024/Test/235.jpg\n",
      "/kaggle/input/cidaut-ai-fake-scene-classification-2024/Test/285.jpg\n",
      "/kaggle/input/cidaut-ai-fake-scene-classification-2024/Test/387.jpg\n",
      "/kaggle/input/cidaut-ai-fake-scene-classification-2024/Test/727.jpg\n",
      "/kaggle/input/cidaut-ai-fake-scene-classification-2024/Test/897.jpg\n",
      "/kaggle/input/cidaut-ai-fake-scene-classification-2024/Test/111.jpg\n",
      "/kaggle/input/cidaut-ai-fake-scene-classification-2024/Test/634.jpg\n",
      "/kaggle/input/cidaut-ai-fake-scene-classification-2024/Test/317.jpg\n",
      "/kaggle/input/cidaut-ai-fake-scene-classification-2024/Test/658.jpg\n",
      "/kaggle/input/cidaut-ai-fake-scene-classification-2024/Test/135.jpg\n",
      "/kaggle/input/cidaut-ai-fake-scene-classification-2024/Test/7.jpg\n",
      "/kaggle/input/cidaut-ai-fake-scene-classification-2024/Test/763.jpg\n",
      "/kaggle/input/cidaut-ai-fake-scene-classification-2024/Test/466.jpg\n",
      "/kaggle/input/cidaut-ai-fake-scene-classification-2024/Test/159.jpg\n",
      "/kaggle/input/cidaut-ai-fake-scene-classification-2024/Test/458.jpg\n",
      "/kaggle/input/cidaut-ai-fake-scene-classification-2024/Test/770.jpg\n",
      "/kaggle/input/cidaut-ai-fake-scene-classification-2024/Test/121.jpg\n",
      "/kaggle/input/cidaut-ai-fake-scene-classification-2024/Test/173.jpg\n",
      "/kaggle/input/cidaut-ai-fake-scene-classification-2024/Test/854.jpg\n",
      "/kaggle/input/cidaut-ai-fake-scene-classification-2024/Test/332.jpg\n",
      "/kaggle/input/cidaut-ai-fake-scene-classification-2024/Test/554.jpg\n",
      "/kaggle/input/cidaut-ai-fake-scene-classification-2024/Test/264.jpg\n",
      "/kaggle/input/cidaut-ai-fake-scene-classification-2024/Test/633.jpg\n",
      "/kaggle/input/cidaut-ai-fake-scene-classification-2024/Test/310.jpg\n",
      "/kaggle/input/cidaut-ai-fake-scene-classification-2024/Test/126.jpg\n",
      "/kaggle/input/cidaut-ai-fake-scene-classification-2024/Test/48.jpg\n",
      "/kaggle/input/cidaut-ai-fake-scene-classification-2024/Test/631.jpg\n",
      "/kaggle/input/cidaut-ai-fake-scene-classification-2024/Test/748.jpg\n",
      "/kaggle/input/cidaut-ai-fake-scene-classification-2024/Test/532.jpg\n",
      "/kaggle/input/cidaut-ai-fake-scene-classification-2024/Test/555.jpg\n",
      "/kaggle/input/cidaut-ai-fake-scene-classification-2024/Test/545.jpg\n",
      "/kaggle/input/cidaut-ai-fake-scene-classification-2024/Test/24.jpg\n",
      "/kaggle/input/cidaut-ai-fake-scene-classification-2024/Test/326.jpg\n",
      "/kaggle/input/cidaut-ai-fake-scene-classification-2024/Test/485.jpg\n",
      "/kaggle/input/cidaut-ai-fake-scene-classification-2024/Test/216.jpg\n",
      "/kaggle/input/cidaut-ai-fake-scene-classification-2024/Test/168.jpg\n",
      "/kaggle/input/cidaut-ai-fake-scene-classification-2024/Test/744.jpg\n",
      "/kaggle/input/cidaut-ai-fake-scene-classification-2024/Test/799.jpg\n",
      "/kaggle/input/cidaut-ai-fake-scene-classification-2024/Test/228.jpg\n",
      "/kaggle/input/cidaut-ai-fake-scene-classification-2024/Test/350.jpg\n",
      "/kaggle/input/cidaut-ai-fake-scene-classification-2024/Test/336.jpg\n",
      "/kaggle/input/cidaut-ai-fake-scene-classification-2024/Test/338.jpg\n",
      "/kaggle/input/cidaut-ai-fake-scene-classification-2024/Test/72.jpg\n",
      "/kaggle/input/cidaut-ai-fake-scene-classification-2024/Test/257.jpg\n",
      "/kaggle/input/cidaut-ai-fake-scene-classification-2024/Test/139.jpg\n",
      "/kaggle/input/cidaut-ai-fake-scene-classification-2024/Test/802.jpg\n",
      "/kaggle/input/cidaut-ai-fake-scene-classification-2024/Test/321.jpg\n",
      "/kaggle/input/cidaut-ai-fake-scene-classification-2024/Test/32.jpg\n",
      "/kaggle/input/cidaut-ai-fake-scene-classification-2024/Test/769.jpg\n",
      "/kaggle/input/cidaut-ai-fake-scene-classification-2024/Test/469.jpg\n",
      "/kaggle/input/cidaut-ai-fake-scene-classification-2024/Test/102.jpg\n",
      "/kaggle/input/cidaut-ai-fake-scene-classification-2024/Test/394.jpg\n",
      "/kaggle/input/cidaut-ai-fake-scene-classification-2024/Test/889.jpg\n",
      "/kaggle/input/cidaut-ai-fake-scene-classification-2024/Test/884.jpg\n",
      "/kaggle/input/cidaut-ai-fake-scene-classification-2024/Test/696.jpg\n",
      "/kaggle/input/cidaut-ai-fake-scene-classification-2024/Test/39.jpg\n",
      "/kaggle/input/cidaut-ai-fake-scene-classification-2024/Test/742.jpg\n",
      "/kaggle/input/cidaut-ai-fake-scene-classification-2024/Test/602.jpg\n",
      "/kaggle/input/cidaut-ai-fake-scene-classification-2024/Test/360.jpg\n",
      "/kaggle/input/cidaut-ai-fake-scene-classification-2024/Test/523.jpg\n",
      "/kaggle/input/cidaut-ai-fake-scene-classification-2024/Test/402.jpg\n",
      "/kaggle/input/cidaut-ai-fake-scene-classification-2024/Test/808.jpg\n",
      "/kaggle/input/cidaut-ai-fake-scene-classification-2024/Test/238.jpg\n",
      "/kaggle/input/cidaut-ai-fake-scene-classification-2024/Test/204.jpg\n",
      "/kaggle/input/cidaut-ai-fake-scene-classification-2024/Test/566.jpg\n",
      "/kaggle/input/cidaut-ai-fake-scene-classification-2024/Test/749.jpg\n",
      "/kaggle/input/cidaut-ai-fake-scene-classification-2024/Test/767.jpg\n",
      "/kaggle/input/cidaut-ai-fake-scene-classification-2024/Test/122.jpg\n",
      "/kaggle/input/cidaut-ai-fake-scene-classification-2024/Test/840.jpg\n",
      "/kaggle/input/cidaut-ai-fake-scene-classification-2024/Test/210.jpg\n",
      "/kaggle/input/cidaut-ai-fake-scene-classification-2024/Test/842.jpg\n",
      "/kaggle/input/cidaut-ai-fake-scene-classification-2024/Test/596.jpg\n",
      "/kaggle/input/cidaut-ai-fake-scene-classification-2024/Test/533.jpg\n",
      "/kaggle/input/cidaut-ai-fake-scene-classification-2024/Test/715.jpg\n",
      "/kaggle/input/cidaut-ai-fake-scene-classification-2024/Test/853.jpg\n",
      "/kaggle/input/cidaut-ai-fake-scene-classification-2024/Test/520.jpg\n",
      "/kaggle/input/cidaut-ai-fake-scene-classification-2024/Test/432.jpg\n",
      "/kaggle/input/cidaut-ai-fake-scene-classification-2024/Test/673.jpg\n",
      "/kaggle/input/cidaut-ai-fake-scene-classification-2024/Test/546.jpg\n",
      "/kaggle/input/cidaut-ai-fake-scene-classification-2024/Test/21.jpg\n",
      "/kaggle/input/cidaut-ai-fake-scene-classification-2024/Test/4.jpg\n",
      "/kaggle/input/cidaut-ai-fake-scene-classification-2024/Test/418.jpg\n",
      "/kaggle/input/cidaut-ai-fake-scene-classification-2024/Test/786.jpg\n",
      "/kaggle/input/cidaut-ai-fake-scene-classification-2024/Test/825.jpg\n",
      "/kaggle/input/cidaut-ai-fake-scene-classification-2024/Test/297.jpg\n",
      "/kaggle/input/cidaut-ai-fake-scene-classification-2024/Test/95.jpg\n",
      "/kaggle/input/cidaut-ai-fake-scene-classification-2024/Test/657.jpg\n",
      "/kaggle/input/cidaut-ai-fake-scene-classification-2024/Test/736.jpg\n",
      "/kaggle/input/cidaut-ai-fake-scene-classification-2024/Test/896.jpg\n",
      "/kaggle/input/cidaut-ai-fake-scene-classification-2024/Test/385.jpg\n",
      "/kaggle/input/cidaut-ai-fake-scene-classification-2024/Test/475.jpg\n",
      "/kaggle/input/cidaut-ai-fake-scene-classification-2024/Test/731.jpg\n",
      "/kaggle/input/cidaut-ai-fake-scene-classification-2024/Test/851.jpg\n",
      "/kaggle/input/cidaut-ai-fake-scene-classification-2024/Test/398.jpg\n",
      "/kaggle/input/cidaut-ai-fake-scene-classification-2024/Test/873.jpg\n",
      "/kaggle/input/cidaut-ai-fake-scene-classification-2024/Test/670.jpg\n",
      "/kaggle/input/cidaut-ai-fake-scene-classification-2024/Test/707.jpg\n",
      "/kaggle/input/cidaut-ai-fake-scene-classification-2024/Test/324.jpg\n",
      "/kaggle/input/cidaut-ai-fake-scene-classification-2024/Test/457.jpg\n",
      "/kaggle/input/cidaut-ai-fake-scene-classification-2024/Test/689.jpg\n",
      "/kaggle/input/cidaut-ai-fake-scene-classification-2024/Test/860.jpg\n",
      "/kaggle/input/cidaut-ai-fake-scene-classification-2024/Test/175.jpg\n",
      "/kaggle/input/cidaut-ai-fake-scene-classification-2024/Test/526.jpg\n",
      "/kaggle/input/cidaut-ai-fake-scene-classification-2024/Test/316.jpg\n",
      "/kaggle/input/cidaut-ai-fake-scene-classification-2024/Test/827.jpg\n",
      "/kaggle/input/cidaut-ai-fake-scene-classification-2024/Test/320.jpg\n",
      "/kaggle/input/cidaut-ai-fake-scene-classification-2024/Test/433.jpg\n",
      "/kaggle/input/cidaut-ai-fake-scene-classification-2024/Test/899.jpg\n",
      "/kaggle/input/cidaut-ai-fake-scene-classification-2024/Test/335.jpg\n",
      "/kaggle/input/cidaut-ai-fake-scene-classification-2024/Test/648.jpg\n",
      "/kaggle/input/cidaut-ai-fake-scene-classification-2024/Test/108.jpg\n",
      "/kaggle/input/cidaut-ai-fake-scene-classification-2024/Test/49.jpg\n",
      "/kaggle/input/cidaut-ai-fake-scene-classification-2024/Test/890.jpg\n",
      "/kaggle/input/cidaut-ai-fake-scene-classification-2024/Test/505.jpg\n",
      "/kaggle/input/cidaut-ai-fake-scene-classification-2024/Test/801.jpg\n",
      "/kaggle/input/cidaut-ai-fake-scene-classification-2024/Test/298.jpg\n",
      "/kaggle/input/cidaut-ai-fake-scene-classification-2024/Test/881.jpg\n",
      "/kaggle/input/cidaut-ai-fake-scene-classification-2024/Test/875.jpg\n",
      "/kaggle/input/cidaut-ai-fake-scene-classification-2024/Test/133.jpg\n",
      "/kaggle/input/cidaut-ai-fake-scene-classification-2024/Test/304.jpg\n",
      "/kaggle/input/cidaut-ai-fake-scene-classification-2024/Test/134.jpg\n",
      "/kaggle/input/cidaut-ai-fake-scene-classification-2024/Test/454.jpg\n",
      "/kaggle/input/cidaut-ai-fake-scene-classification-2024/Test/754.jpg\n",
      "/kaggle/input/cidaut-ai-fake-scene-classification-2024/Train/623.jpg\n",
      "/kaggle/input/cidaut-ai-fake-scene-classification-2024/Train/764.jpg\n",
      "/kaggle/input/cidaut-ai-fake-scene-classification-2024/Train/771.jpg\n",
      "/kaggle/input/cidaut-ai-fake-scene-classification-2024/Train/208.jpg\n",
      "/kaggle/input/cidaut-ai-fake-scene-classification-2024/Train/820.jpg\n",
      "/kaggle/input/cidaut-ai-fake-scene-classification-2024/Train/333.jpg\n",
      "/kaggle/input/cidaut-ai-fake-scene-classification-2024/Train/45.jpg\n",
      "/kaggle/input/cidaut-ai-fake-scene-classification-2024/Train/369.jpg\n",
      "/kaggle/input/cidaut-ai-fake-scene-classification-2024/Train/56.jpg\n",
      "/kaggle/input/cidaut-ai-fake-scene-classification-2024/Train/654.jpg\n",
      "/kaggle/input/cidaut-ai-fake-scene-classification-2024/Train/89.jpg\n",
      "/kaggle/input/cidaut-ai-fake-scene-classification-2024/Train/20.jpg\n",
      "/kaggle/input/cidaut-ai-fake-scene-classification-2024/Train/275.jpg\n",
      "/kaggle/input/cidaut-ai-fake-scene-classification-2024/Train/212.jpg\n",
      "/kaggle/input/cidaut-ai-fake-scene-classification-2024/Train/58.jpg\n",
      "/kaggle/input/cidaut-ai-fake-scene-classification-2024/Train/150.jpg\n",
      "/kaggle/input/cidaut-ai-fake-scene-classification-2024/Train/6.jpg\n",
      "/kaggle/input/cidaut-ai-fake-scene-classification-2024/Train/149.jpg\n",
      "/kaggle/input/cidaut-ai-fake-scene-classification-2024/Train/187.jpg\n",
      "/kaggle/input/cidaut-ai-fake-scene-classification-2024/Train/521.jpg\n",
      "/kaggle/input/cidaut-ai-fake-scene-classification-2024/Train/436.jpg\n",
      "/kaggle/input/cidaut-ai-fake-scene-classification-2024/Train/76.jpg\n",
      "/kaggle/input/cidaut-ai-fake-scene-classification-2024/Train/539.jpg\n",
      "/kaggle/input/cidaut-ai-fake-scene-classification-2024/Train/355.jpg\n",
      "/kaggle/input/cidaut-ai-fake-scene-classification-2024/Train/516.jpg\n",
      "/kaggle/input/cidaut-ai-fake-scene-classification-2024/Train/71.jpg\n",
      "/kaggle/input/cidaut-ai-fake-scene-classification-2024/Train/708.jpg\n",
      "/kaggle/input/cidaut-ai-fake-scene-classification-2024/Train/474.jpg\n",
      "/kaggle/input/cidaut-ai-fake-scene-classification-2024/Train/501.jpg\n",
      "/kaggle/input/cidaut-ai-fake-scene-classification-2024/Train/815.jpg\n",
      "/kaggle/input/cidaut-ai-fake-scene-classification-2024/Train/760.jpg\n",
      "/kaggle/input/cidaut-ai-fake-scene-classification-2024/Train/342.jpg\n",
      "/kaggle/input/cidaut-ai-fake-scene-classification-2024/Train/817.jpg\n",
      "/kaggle/input/cidaut-ai-fake-scene-classification-2024/Train/429.jpg\n",
      "/kaggle/input/cidaut-ai-fake-scene-classification-2024/Train/646.jpg\n",
      "/kaggle/input/cidaut-ai-fake-scene-classification-2024/Train/682.jpg\n",
      "/kaggle/input/cidaut-ai-fake-scene-classification-2024/Train/377.jpg\n",
      "/kaggle/input/cidaut-ai-fake-scene-classification-2024/Train/272.jpg\n",
      "/kaggle/input/cidaut-ai-fake-scene-classification-2024/Train/795.jpg\n",
      "/kaggle/input/cidaut-ai-fake-scene-classification-2024/Train/270.jpg\n",
      "/kaggle/input/cidaut-ai-fake-scene-classification-2024/Train/182.jpg\n",
      "/kaggle/input/cidaut-ai-fake-scene-classification-2024/Train/215.jpg\n",
      "/kaggle/input/cidaut-ai-fake-scene-classification-2024/Train/489.jpg\n",
      "/kaggle/input/cidaut-ai-fake-scene-classification-2024/Train/185.jpg\n",
      "/kaggle/input/cidaut-ai-fake-scene-classification-2024/Train/703.jpg\n",
      "/kaggle/input/cidaut-ai-fake-scene-classification-2024/Train/189.jpg\n",
      "/kaggle/input/cidaut-ai-fake-scene-classification-2024/Train/476.jpg\n",
      "/kaggle/input/cidaut-ai-fake-scene-classification-2024/Train/717.jpg\n",
      "/kaggle/input/cidaut-ai-fake-scene-classification-2024/Train/327.jpg\n",
      "/kaggle/input/cidaut-ai-fake-scene-classification-2024/Train/253.jpg\n",
      "/kaggle/input/cidaut-ai-fake-scene-classification-2024/Train/343.jpg\n",
      "/kaggle/input/cidaut-ai-fake-scene-classification-2024/Train/115.jpg\n",
      "/kaggle/input/cidaut-ai-fake-scene-classification-2024/Train/131.jpg\n",
      "/kaggle/input/cidaut-ai-fake-scene-classification-2024/Train/446.jpg\n",
      "/kaggle/input/cidaut-ai-fake-scene-classification-2024/Train/626.jpg\n",
      "/kaggle/input/cidaut-ai-fake-scene-classification-2024/Train/425.jpg\n",
      "/kaggle/input/cidaut-ai-fake-scene-classification-2024/Train/366.jpg\n",
      "/kaggle/input/cidaut-ai-fake-scene-classification-2024/Train/850.jpg\n",
      "/kaggle/input/cidaut-ai-fake-scene-classification-2024/Train/885.jpg\n",
      "/kaggle/input/cidaut-ai-fake-scene-classification-2024/Train/151.jpg\n",
      "/kaggle/input/cidaut-ai-fake-scene-classification-2024/Train/732.jpg\n",
      "/kaggle/input/cidaut-ai-fake-scene-classification-2024/Train/503.jpg\n",
      "/kaggle/input/cidaut-ai-fake-scene-classification-2024/Train/8.jpg\n",
      "/kaggle/input/cidaut-ai-fake-scene-classification-2024/Train/641.jpg\n",
      "/kaggle/input/cidaut-ai-fake-scene-classification-2024/Train/892.jpg\n",
      "/kaggle/input/cidaut-ai-fake-scene-classification-2024/Train/622.jpg\n",
      "/kaggle/input/cidaut-ai-fake-scene-classification-2024/Train/260.jpg\n",
      "/kaggle/input/cidaut-ai-fake-scene-classification-2024/Train/534.jpg\n",
      "/kaggle/input/cidaut-ai-fake-scene-classification-2024/Train/202.jpg\n",
      "/kaggle/input/cidaut-ai-fake-scene-classification-2024/Train/84.jpg\n",
      "/kaggle/input/cidaut-ai-fake-scene-classification-2024/Train/577.jpg\n",
      "/kaggle/input/cidaut-ai-fake-scene-classification-2024/Train/751.jpg\n",
      "/kaggle/input/cidaut-ai-fake-scene-classification-2024/Train/237.jpg\n",
      "/kaggle/input/cidaut-ai-fake-scene-classification-2024/Train/273.jpg\n",
      "/kaggle/input/cidaut-ai-fake-scene-classification-2024/Train/286.jpg\n",
      "/kaggle/input/cidaut-ai-fake-scene-classification-2024/Train/283.jpg\n",
      "/kaggle/input/cidaut-ai-fake-scene-classification-2024/Train/486.jpg\n",
      "/kaggle/input/cidaut-ai-fake-scene-classification-2024/Train/513.jpg\n",
      "/kaggle/input/cidaut-ai-fake-scene-classification-2024/Train/766.jpg\n",
      "/kaggle/input/cidaut-ai-fake-scene-classification-2024/Train/85.jpg\n",
      "/kaggle/input/cidaut-ai-fake-scene-classification-2024/Train/564.jpg\n",
      "/kaggle/input/cidaut-ai-fake-scene-classification-2024/Train/359.jpg\n",
      "/kaggle/input/cidaut-ai-fake-scene-classification-2024/Train/265.jpg\n",
      "/kaggle/input/cidaut-ai-fake-scene-classification-2024/Train/289.jpg\n",
      "/kaggle/input/cidaut-ai-fake-scene-classification-2024/Train/118.jpg\n",
      "/kaggle/input/cidaut-ai-fake-scene-classification-2024/Train/361.jpg\n",
      "/kaggle/input/cidaut-ai-fake-scene-classification-2024/Train/591.jpg\n",
      "/kaggle/input/cidaut-ai-fake-scene-classification-2024/Train/723.jpg\n",
      "/kaggle/input/cidaut-ai-fake-scene-classification-2024/Train/443.jpg\n",
      "/kaggle/input/cidaut-ai-fake-scene-classification-2024/Train/295.jpg\n",
      "/kaggle/input/cidaut-ai-fake-scene-classification-2024/Train/176.jpg\n",
      "/kaggle/input/cidaut-ai-fake-scene-classification-2024/Train/279.jpg\n",
      "/kaggle/input/cidaut-ai-fake-scene-classification-2024/Train/668.jpg\n",
      "/kaggle/input/cidaut-ai-fake-scene-classification-2024/Train/757.jpg\n",
      "/kaggle/input/cidaut-ai-fake-scene-classification-2024/Train/30.jpg\n",
      "/kaggle/input/cidaut-ai-fake-scene-classification-2024/Train/97.jpg\n",
      "/kaggle/input/cidaut-ai-fake-scene-classification-2024/Train/334.jpg\n",
      "/kaggle/input/cidaut-ai-fake-scene-classification-2024/Train/106.jpg\n",
      "/kaggle/input/cidaut-ai-fake-scene-classification-2024/Train/806.jpg\n",
      "/kaggle/input/cidaut-ai-fake-scene-classification-2024/Train/163.jpg\n",
      "/kaggle/input/cidaut-ai-fake-scene-classification-2024/Train/113.jpg\n",
      "/kaggle/input/cidaut-ai-fake-scene-classification-2024/Train/160.jpg\n",
      "/kaggle/input/cidaut-ai-fake-scene-classification-2024/Train/518.jpg\n",
      "/kaggle/input/cidaut-ai-fake-scene-classification-2024/Train/38.jpg\n",
      "/kaggle/input/cidaut-ai-fake-scene-classification-2024/Train/463.jpg\n",
      "/kaggle/input/cidaut-ai-fake-scene-classification-2024/Train/349.jpg\n",
      "/kaggle/input/cidaut-ai-fake-scene-classification-2024/Train/328.jpg\n",
      "/kaggle/input/cidaut-ai-fake-scene-classification-2024/Train/211.jpg\n",
      "/kaggle/input/cidaut-ai-fake-scene-classification-2024/Train/788.jpg\n",
      "/kaggle/input/cidaut-ai-fake-scene-classification-2024/Train/863.jpg\n",
      "/kaggle/input/cidaut-ai-fake-scene-classification-2024/Train/197.jpg\n",
      "/kaggle/input/cidaut-ai-fake-scene-classification-2024/Train/704.jpg\n",
      "/kaggle/input/cidaut-ai-fake-scene-classification-2024/Train/630.jpg\n",
      "/kaggle/input/cidaut-ai-fake-scene-classification-2024/Train/10.jpg\n",
      "/kaggle/input/cidaut-ai-fake-scene-classification-2024/Train/818.jpg\n",
      "/kaggle/input/cidaut-ai-fake-scene-classification-2024/Train/178.jpg\n",
      "/kaggle/input/cidaut-ai-fake-scene-classification-2024/Train/54.jpg\n",
      "/kaggle/input/cidaut-ai-fake-scene-classification-2024/Train/672.jpg\n",
      "/kaggle/input/cidaut-ai-fake-scene-classification-2024/Train/271.jpg\n",
      "/kaggle/input/cidaut-ai-fake-scene-classification-2024/Train/683.jpg\n",
      "/kaggle/input/cidaut-ai-fake-scene-classification-2024/Train/251.jpg\n",
      "/kaggle/input/cidaut-ai-fake-scene-classification-2024/Train/759.jpg\n",
      "/kaggle/input/cidaut-ai-fake-scene-classification-2024/Train/833.jpg\n",
      "/kaggle/input/cidaut-ai-fake-scene-classification-2024/Train/589.jpg\n",
      "/kaggle/input/cidaut-ai-fake-scene-classification-2024/Train/278.jpg\n",
      "/kaggle/input/cidaut-ai-fake-scene-classification-2024/Train/743.jpg\n",
      "/kaggle/input/cidaut-ai-fake-scene-classification-2024/Train/500.jpg\n",
      "/kaggle/input/cidaut-ai-fake-scene-classification-2024/Train/156.jpg\n",
      "/kaggle/input/cidaut-ai-fake-scene-classification-2024/Train/380.jpg\n",
      "/kaggle/input/cidaut-ai-fake-scene-classification-2024/Train/558.jpg\n",
      "/kaggle/input/cidaut-ai-fake-scene-classification-2024/Train/120.jpg\n",
      "/kaggle/input/cidaut-ai-fake-scene-classification-2024/Train/456.jpg\n",
      "/kaggle/input/cidaut-ai-fake-scene-classification-2024/Train/35.jpg\n",
      "/kaggle/input/cidaut-ai-fake-scene-classification-2024/Train/629.jpg\n",
      "/kaggle/input/cidaut-ai-fake-scene-classification-2024/Train/290.jpg\n",
      "/kaggle/input/cidaut-ai-fake-scene-classification-2024/Train/61.jpg\n",
      "/kaggle/input/cidaut-ai-fake-scene-classification-2024/Train/190.jpg\n",
      "/kaggle/input/cidaut-ai-fake-scene-classification-2024/Train/124.jpg\n",
      "/kaggle/input/cidaut-ai-fake-scene-classification-2024/Train/441.jpg\n",
      "/kaggle/input/cidaut-ai-fake-scene-classification-2024/Train/191.jpg\n",
      "/kaggle/input/cidaut-ai-fake-scene-classification-2024/Train/512.jpg\n",
      "/kaggle/input/cidaut-ai-fake-scene-classification-2024/Train/427.jpg\n",
      "/kaggle/input/cidaut-ai-fake-scene-classification-2024/Train/59.jpg\n",
      "/kaggle/input/cidaut-ai-fake-scene-classification-2024/Train/604.jpg\n",
      "/kaggle/input/cidaut-ai-fake-scene-classification-2024/Train/680.jpg\n",
      "/kaggle/input/cidaut-ai-fake-scene-classification-2024/Train/819.jpg\n",
      "/kaggle/input/cidaut-ai-fake-scene-classification-2024/Train/595.jpg\n",
      "/kaggle/input/cidaut-ai-fake-scene-classification-2024/Train/313.jpg\n",
      "/kaggle/input/cidaut-ai-fake-scene-classification-2024/Train/601.jpg\n",
      "/kaggle/input/cidaut-ai-fake-scene-classification-2024/Train/871.jpg\n",
      "/kaggle/input/cidaut-ai-fake-scene-classification-2024/Train/375.jpg\n",
      "/kaggle/input/cidaut-ai-fake-scene-classification-2024/Train/396.jpg\n",
      "/kaggle/input/cidaut-ai-fake-scene-classification-2024/Train/41.jpg\n",
      "/kaggle/input/cidaut-ai-fake-scene-classification-2024/Train/527.jpg\n",
      "/kaggle/input/cidaut-ai-fake-scene-classification-2024/Train/248.jpg\n",
      "/kaggle/input/cidaut-ai-fake-scene-classification-2024/Train/123.jpg\n",
      "/kaggle/input/cidaut-ai-fake-scene-classification-2024/Train/710.jpg\n",
      "/kaggle/input/cidaut-ai-fake-scene-classification-2024/Train/230.jpg\n",
      "/kaggle/input/cidaut-ai-fake-scene-classification-2024/Train/580.jpg\n",
      "/kaggle/input/cidaut-ai-fake-scene-classification-2024/Train/685.jpg\n",
      "/kaggle/input/cidaut-ai-fake-scene-classification-2024/Train/408.jpg\n",
      "/kaggle/input/cidaut-ai-fake-scene-classification-2024/Train/509.jpg\n",
      "/kaggle/input/cidaut-ai-fake-scene-classification-2024/Train/872.jpg\n",
      "/kaggle/input/cidaut-ai-fake-scene-classification-2024/Train/256.jpg\n",
      "/kaggle/input/cidaut-ai-fake-scene-classification-2024/Train/776.jpg\n",
      "/kaggle/input/cidaut-ai-fake-scene-classification-2024/Train/247.jpg\n",
      "/kaggle/input/cidaut-ai-fake-scene-classification-2024/Train/362.jpg\n",
      "/kaggle/input/cidaut-ai-fake-scene-classification-2024/Train/60.jpg\n",
      "/kaggle/input/cidaut-ai-fake-scene-classification-2024/Train/627.jpg\n",
      "/kaggle/input/cidaut-ai-fake-scene-classification-2024/Train/538.jpg\n",
      "/kaggle/input/cidaut-ai-fake-scene-classification-2024/Train/221.jpg\n",
      "/kaggle/input/cidaut-ai-fake-scene-classification-2024/Train/167.jpg\n",
      "/kaggle/input/cidaut-ai-fake-scene-classification-2024/Train/57.jpg\n",
      "/kaggle/input/cidaut-ai-fake-scene-classification-2024/Train/227.jpg\n",
      "/kaggle/input/cidaut-ai-fake-scene-classification-2024/Train/894.jpg\n",
      "/kaggle/input/cidaut-ai-fake-scene-classification-2024/Train/690.jpg\n",
      "/kaggle/input/cidaut-ai-fake-scene-classification-2024/Train/822.jpg\n",
      "/kaggle/input/cidaut-ai-fake-scene-classification-2024/Train/112.jpg\n",
      "/kaggle/input/cidaut-ai-fake-scene-classification-2024/Train/372.jpg\n",
      "/kaggle/input/cidaut-ai-fake-scene-classification-2024/Train/388.jpg\n",
      "/kaggle/input/cidaut-ai-fake-scene-classification-2024/Train/478.jpg\n",
      "/kaggle/input/cidaut-ai-fake-scene-classification-2024/Train/193.jpg\n",
      "/kaggle/input/cidaut-ai-fake-scene-classification-2024/Train/374.jpg\n",
      "/kaggle/input/cidaut-ai-fake-scene-classification-2024/Train/639.jpg\n",
      "/kaggle/input/cidaut-ai-fake-scene-classification-2024/Train/452.jpg\n",
      "/kaggle/input/cidaut-ai-fake-scene-classification-2024/Train/745.jpg\n",
      "/kaggle/input/cidaut-ai-fake-scene-classification-2024/Train/738.jpg\n",
      "/kaggle/input/cidaut-ai-fake-scene-classification-2024/Train/506.jpg\n",
      "/kaggle/input/cidaut-ai-fake-scene-classification-2024/Train/192.jpg\n",
      "/kaggle/input/cidaut-ai-fake-scene-classification-2024/Train/412.jpg\n",
      "/kaggle/input/cidaut-ai-fake-scene-classification-2024/Train/701.jpg\n",
      "/kaggle/input/cidaut-ai-fake-scene-classification-2024/Train/653.jpg\n",
      "/kaggle/input/cidaut-ai-fake-scene-classification-2024/Train/9.jpg\n",
      "/kaggle/input/cidaut-ai-fake-scene-classification-2024/Train/705.jpg\n",
      "/kaggle/input/cidaut-ai-fake-scene-classification-2024/Train/101.jpg\n",
      "/kaggle/input/cidaut-ai-fake-scene-classification-2024/Train/651.jpg\n",
      "/kaggle/input/cidaut-ai-fake-scene-classification-2024/Train/99.jpg\n",
      "/kaggle/input/cidaut-ai-fake-scene-classification-2024/Train/382.jpg\n",
      "/kaggle/input/cidaut-ai-fake-scene-classification-2024/Train/836.jpg\n",
      "/kaggle/input/cidaut-ai-fake-scene-classification-2024/Train/311.jpg\n",
      "/kaggle/input/cidaut-ai-fake-scene-classification-2024/Train/831.jpg\n",
      "/kaggle/input/cidaut-ai-fake-scene-classification-2024/Train/241.jpg\n",
      "/kaggle/input/cidaut-ai-fake-scene-classification-2024/Train/832.jpg\n",
      "/kaggle/input/cidaut-ai-fake-scene-classification-2024/Train/397.jpg\n",
      "/kaggle/input/cidaut-ai-fake-scene-classification-2024/Train/37.jpg\n",
      "/kaggle/input/cidaut-ai-fake-scene-classification-2024/Train/340.jpg\n",
      "/kaggle/input/cidaut-ai-fake-scene-classification-2024/Train/1.jpg\n",
      "/kaggle/input/cidaut-ai-fake-scene-classification-2024/Train/524.jpg\n",
      "/kaggle/input/cidaut-ai-fake-scene-classification-2024/Train/793.jpg\n",
      "/kaggle/input/cidaut-ai-fake-scene-classification-2024/Train/529.jpg\n",
      "/kaggle/input/cidaut-ai-fake-scene-classification-2024/Train/177.jpg\n",
      "/kaggle/input/cidaut-ai-fake-scene-classification-2024/Train/868.jpg\n",
      "/kaggle/input/cidaut-ai-fake-scene-classification-2024/Train/186.jpg\n",
      "/kaggle/input/cidaut-ai-fake-scene-classification-2024/Train/720.jpg\n",
      "/kaggle/input/cidaut-ai-fake-scene-classification-2024/Train/358.jpg\n",
      "/kaggle/input/cidaut-ai-fake-scene-classification-2024/Train/69.jpg\n",
      "/kaggle/input/cidaut-ai-fake-scene-classification-2024/Train/468.jpg\n",
      "/kaggle/input/cidaut-ai-fake-scene-classification-2024/Train/414.jpg\n",
      "/kaggle/input/cidaut-ai-fake-scene-classification-2024/Train/75.jpg\n",
      "/kaggle/input/cidaut-ai-fake-scene-classification-2024/Train/403.jpg\n",
      "/kaggle/input/cidaut-ai-fake-scene-classification-2024/Train/887.jpg\n",
      "/kaggle/input/cidaut-ai-fake-scene-classification-2024/Train/117.jpg\n",
      "/kaggle/input/cidaut-ai-fake-scene-classification-2024/Train/81.jpg\n",
      "/kaggle/input/cidaut-ai-fake-scene-classification-2024/Train/721.jpg\n",
      "/kaggle/input/cidaut-ai-fake-scene-classification-2024/Train/684.jpg\n",
      "/kaggle/input/cidaut-ai-fake-scene-classification-2024/Train/390.jpg\n",
      "/kaggle/input/cidaut-ai-fake-scene-classification-2024/Train/254.jpg\n",
      "/kaggle/input/cidaut-ai-fake-scene-classification-2024/Train/410.jpg\n",
      "/kaggle/input/cidaut-ai-fake-scene-classification-2024/Train/381.jpg\n",
      "/kaggle/input/cidaut-ai-fake-scene-classification-2024/Train/535.jpg\n",
      "/kaggle/input/cidaut-ai-fake-scene-classification-2024/Train/393.jpg\n",
      "/kaggle/input/cidaut-ai-fake-scene-classification-2024/Train/424.jpg\n",
      "/kaggle/input/cidaut-ai-fake-scene-classification-2024/Train/401.jpg\n",
      "/kaggle/input/cidaut-ai-fake-scene-classification-2024/Train/874.jpg\n",
      "/kaggle/input/cidaut-ai-fake-scene-classification-2024/Train/774.jpg\n",
      "/kaggle/input/cidaut-ai-fake-scene-classification-2024/Train/444.jpg\n",
      "/kaggle/input/cidaut-ai-fake-scene-classification-2024/Train/864.jpg\n",
      "/kaggle/input/cidaut-ai-fake-scene-classification-2024/Train/276.jpg\n",
      "/kaggle/input/cidaut-ai-fake-scene-classification-2024/Train/560.jpg\n",
      "/kaggle/input/cidaut-ai-fake-scene-classification-2024/Train/319.jpg\n",
      "/kaggle/input/cidaut-ai-fake-scene-classification-2024/Train/716.jpg\n",
      "/kaggle/input/cidaut-ai-fake-scene-classification-2024/Train/525.jpg\n",
      "/kaggle/input/cidaut-ai-fake-scene-classification-2024/Train/737.jpg\n",
      "/kaggle/input/cidaut-ai-fake-scene-classification-2024/Train/574.jpg\n",
      "/kaggle/input/cidaut-ai-fake-scene-classification-2024/Train/267.jpg\n",
      "/kaggle/input/cidaut-ai-fake-scene-classification-2024/Train/44.jpg\n",
      "/kaggle/input/cidaut-ai-fake-scene-classification-2024/Train/561.jpg\n",
      "/kaggle/input/cidaut-ai-fake-scene-classification-2024/Train/563.jpg\n",
      "/kaggle/input/cidaut-ai-fake-scene-classification-2024/Train/50.jpg\n",
      "/kaggle/input/cidaut-ai-fake-scene-classification-2024/Train/314.jpg\n",
      "/kaggle/input/cidaut-ai-fake-scene-classification-2024/Train/467.jpg\n",
      "/kaggle/input/cidaut-ai-fake-scene-classification-2024/Train/530.jpg\n",
      "/kaggle/input/cidaut-ai-fake-scene-classification-2024/Train/196.jpg\n",
      "/kaggle/input/cidaut-ai-fake-scene-classification-2024/Train/569.jpg\n",
      "/kaggle/input/cidaut-ai-fake-scene-classification-2024/Train/29.jpg\n",
      "/kaggle/input/cidaut-ai-fake-scene-classification-2024/Train/140.jpg\n",
      "/kaggle/input/cidaut-ai-fake-scene-classification-2024/Train/531.jpg\n",
      "/kaggle/input/cidaut-ai-fake-scene-classification-2024/Train/713.jpg\n",
      "/kaggle/input/cidaut-ai-fake-scene-classification-2024/Train/826.jpg\n",
      "/kaggle/input/cidaut-ai-fake-scene-classification-2024/Train/415.jpg\n",
      "/kaggle/input/cidaut-ai-fake-scene-classification-2024/Train/482.jpg\n",
      "/kaggle/input/cidaut-ai-fake-scene-classification-2024/Train/322.jpg\n",
      "/kaggle/input/cidaut-ai-fake-scene-classification-2024/Train/79.jpg\n",
      "/kaggle/input/cidaut-ai-fake-scene-classification-2024/Train/878.jpg\n",
      "/kaggle/input/cidaut-ai-fake-scene-classification-2024/Train/302.jpg\n",
      "/kaggle/input/cidaut-ai-fake-scene-classification-2024/Train/179.jpg\n",
      "/kaggle/input/cidaut-ai-fake-scene-classification-2024/Train/284.jpg\n",
      "/kaggle/input/cidaut-ai-fake-scene-classification-2024/Train/419.jpg\n",
      "/kaggle/input/cidaut-ai-fake-scene-classification-2024/Train/590.jpg\n",
      "/kaggle/input/cidaut-ai-fake-scene-classification-2024/Train/105.jpg\n",
      "/kaggle/input/cidaut-ai-fake-scene-classification-2024/Train/846.jpg\n",
      "/kaggle/input/cidaut-ai-fake-scene-classification-2024/Train/695.jpg\n",
      "/kaggle/input/cidaut-ai-fake-scene-classification-2024/Train/649.jpg\n",
      "/kaggle/input/cidaut-ai-fake-scene-classification-2024/Train/371.jpg\n",
      "/kaggle/input/cidaut-ai-fake-scene-classification-2024/Train/16.jpg\n",
      "/kaggle/input/cidaut-ai-fake-scene-classification-2024/Train/55.jpg\n",
      "/kaggle/input/cidaut-ai-fake-scene-classification-2024/Train/856.jpg\n",
      "/kaggle/input/cidaut-ai-fake-scene-classification-2024/Train/619.jpg\n",
      "/kaggle/input/cidaut-ai-fake-scene-classification-2024/Train/356.jpg\n",
      "/kaggle/input/cidaut-ai-fake-scene-classification-2024/Train/145.jpg\n",
      "/kaggle/input/cidaut-ai-fake-scene-classification-2024/Train/611.jpg\n",
      "/kaggle/input/cidaut-ai-fake-scene-classification-2024/Train/758.jpg\n",
      "/kaggle/input/cidaut-ai-fake-scene-classification-2024/Train/794.jpg\n",
      "/kaggle/input/cidaut-ai-fake-scene-classification-2024/Train/23.jpg\n",
      "/kaggle/input/cidaut-ai-fake-scene-classification-2024/Train/246.jpg\n",
      "/kaggle/input/cidaut-ai-fake-scene-classification-2024/Train/541.jpg\n",
      "/kaggle/input/cidaut-ai-fake-scene-classification-2024/Train/659.jpg\n",
      "/kaggle/input/cidaut-ai-fake-scene-classification-2024/Train/548.jpg\n",
      "/kaggle/input/cidaut-ai-fake-scene-classification-2024/Train/434.jpg\n",
      "/kaggle/input/cidaut-ai-fake-scene-classification-2024/Train/876.jpg\n",
      "/kaggle/input/cidaut-ai-fake-scene-classification-2024/Train/214.jpg\n",
      "/kaggle/input/cidaut-ai-fake-scene-classification-2024/Train/699.jpg\n",
      "/kaggle/input/cidaut-ai-fake-scene-classification-2024/Train/225.jpg\n",
      "/kaggle/input/cidaut-ai-fake-scene-classification-2024/Train/252.jpg\n",
      "/kaggle/input/cidaut-ai-fake-scene-classification-2024/Train/765.jpg\n",
      "/kaggle/input/cidaut-ai-fake-scene-classification-2024/Train/77.jpg\n",
      "/kaggle/input/cidaut-ai-fake-scene-classification-2024/Train/166.jpg\n",
      "/kaggle/input/cidaut-ai-fake-scene-classification-2024/Train/292.jpg\n",
      "/kaggle/input/cidaut-ai-fake-scene-classification-2024/Train/80.jpg\n",
      "/kaggle/input/cidaut-ai-fake-scene-classification-2024/Train/430.jpg\n",
      "/kaggle/input/cidaut-ai-fake-scene-classification-2024/Train/464.jpg\n",
      "/kaggle/input/cidaut-ai-fake-scene-classification-2024/Train/880.jpg\n",
      "/kaggle/input/cidaut-ai-fake-scene-classification-2024/Train/28.jpg\n",
      "/kaggle/input/cidaut-ai-fake-scene-classification-2024/Train/22.jpg\n",
      "/kaggle/input/cidaut-ai-fake-scene-classification-2024/Train/378.jpg\n",
      "/kaggle/input/cidaut-ai-fake-scene-classification-2024/Train/837.jpg\n",
      "/kaggle/input/cidaut-ai-fake-scene-classification-2024/Train/645.jpg\n",
      "/kaggle/input/cidaut-ai-fake-scene-classification-2024/Train/573.jpg\n",
      "/kaggle/input/cidaut-ai-fake-scene-classification-2024/Train/691.jpg\n",
      "/kaggle/input/cidaut-ai-fake-scene-classification-2024/Train/677.jpg\n",
      "/kaggle/input/cidaut-ai-fake-scene-classification-2024/Train/807.jpg\n",
      "/kaggle/input/cidaut-ai-fake-scene-classification-2024/Train/671.jpg\n",
      "/kaggle/input/cidaut-ai-fake-scene-classification-2024/Train/400.jpg\n",
      "/kaggle/input/cidaut-ai-fake-scene-classification-2024/Train/678.jpg\n",
      "/kaggle/input/cidaut-ai-fake-scene-classification-2024/Train/171.jpg\n",
      "/kaggle/input/cidaut-ai-fake-scene-classification-2024/Train/809.jpg\n",
      "/kaggle/input/cidaut-ai-fake-scene-classification-2024/Train/329.jpg\n",
      "/kaggle/input/cidaut-ai-fake-scene-classification-2024/Train/258.jpg\n",
      "/kaggle/input/cidaut-ai-fake-scene-classification-2024/Train/498.jpg\n",
      "/kaggle/input/cidaut-ai-fake-scene-classification-2024/Train/603.jpg\n",
      "/kaggle/input/cidaut-ai-fake-scene-classification-2024/Train/565.jpg\n",
      "/kaggle/input/cidaut-ai-fake-scene-classification-2024/Train/392.jpg\n",
      "/kaggle/input/cidaut-ai-fake-scene-classification-2024/Train/103.jpg\n",
      "/kaggle/input/cidaut-ai-fake-scene-classification-2024/Train/814.jpg\n",
      "/kaggle/input/cidaut-ai-fake-scene-classification-2024/Train/174.jpg\n",
      "/kaggle/input/cidaut-ai-fake-scene-classification-2024/Train/828.jpg\n",
      "/kaggle/input/cidaut-ai-fake-scene-classification-2024/Train/40.jpg\n",
      "/kaggle/input/cidaut-ai-fake-scene-classification-2024/Train/261.jpg\n",
      "/kaggle/input/cidaut-ai-fake-scene-classification-2024/Train/391.jpg\n",
      "/kaggle/input/cidaut-ai-fake-scene-classification-2024/Train/451.jpg\n",
      "/kaggle/input/cidaut-ai-fake-scene-classification-2024/Train/747.jpg\n",
      "/kaggle/input/cidaut-ai-fake-scene-classification-2024/Train/357.jpg\n",
      "/kaggle/input/cidaut-ai-fake-scene-classification-2024/Train/543.jpg\n",
      "/kaggle/input/cidaut-ai-fake-scene-classification-2024/Train/296.jpg\n",
      "/kaggle/input/cidaut-ai-fake-scene-classification-2024/Train/700.jpg\n",
      "/kaggle/input/cidaut-ai-fake-scene-classification-2024/Train/750.jpg\n",
      "/kaggle/input/cidaut-ai-fake-scene-classification-2024/Train/784.jpg\n",
      "/kaggle/input/cidaut-ai-fake-scene-classification-2024/Train/346.jpg\n",
      "/kaggle/input/cidaut-ai-fake-scene-classification-2024/Train/308.jpg\n",
      "/kaggle/input/cidaut-ai-fake-scene-classification-2024/Train/199.jpg\n",
      "/kaggle/input/cidaut-ai-fake-scene-classification-2024/Train/687.jpg\n",
      "/kaggle/input/cidaut-ai-fake-scene-classification-2024/Train/142.jpg\n",
      "/kaggle/input/cidaut-ai-fake-scene-classification-2024/Train/339.jpg\n",
      "/kaggle/input/cidaut-ai-fake-scene-classification-2024/Train/835.jpg\n",
      "/kaggle/input/cidaut-ai-fake-scene-classification-2024/Train/730.jpg\n",
      "/kaggle/input/cidaut-ai-fake-scene-classification-2024/Train/280.jpg\n",
      "/kaggle/input/cidaut-ai-fake-scene-classification-2024/Train/572.jpg\n",
      "/kaggle/input/cidaut-ai-fake-scene-classification-2024/Train/169.jpg\n",
      "/kaggle/input/cidaut-ai-fake-scene-classification-2024/Train/656.jpg\n",
      "/kaggle/input/cidaut-ai-fake-scene-classification-2024/Train/421.jpg\n",
      "/kaggle/input/cidaut-ai-fake-scene-classification-2024/Train/449.jpg\n",
      "/kaggle/input/cidaut-ai-fake-scene-classification-2024/Train/194.jpg\n",
      "/kaggle/input/cidaut-ai-fake-scene-classification-2024/Train/821.jpg\n",
      "/kaggle/input/cidaut-ai-fake-scene-classification-2024/Train/663.jpg\n",
      "/kaggle/input/cidaut-ai-fake-scene-classification-2024/Train/180.jpg\n",
      "/kaggle/input/cidaut-ai-fake-scene-classification-2024/Train/104.jpg\n",
      "/kaggle/input/cidaut-ai-fake-scene-classification-2024/Train/567.jpg\n",
      "/kaggle/input/cidaut-ai-fake-scene-classification-2024/Train/155.jpg\n",
      "/kaggle/input/cidaut-ai-fake-scene-classification-2024/Train/88.jpg\n",
      "/kaggle/input/cidaut-ai-fake-scene-classification-2024/Train/465.jpg\n",
      "/kaggle/input/cidaut-ai-fake-scene-classification-2024/Train/344.jpg\n",
      "/kaggle/input/cidaut-ai-fake-scene-classification-2024/Train/64.jpg\n",
      "/kaggle/input/cidaut-ai-fake-scene-classification-2024/Train/352.jpg\n",
      "/kaggle/input/cidaut-ai-fake-scene-classification-2024/Train/734.jpg\n",
      "/kaggle/input/cidaut-ai-fake-scene-classification-2024/Train/879.jpg\n",
      "/kaggle/input/cidaut-ai-fake-scene-classification-2024/Train/287.jpg\n",
      "/kaggle/input/cidaut-ai-fake-scene-classification-2024/Train/269.jpg\n",
      "/kaggle/input/cidaut-ai-fake-scene-classification-2024/Train/420.jpg\n",
      "/kaggle/input/cidaut-ai-fake-scene-classification-2024/Train/702.jpg\n",
      "/kaggle/input/cidaut-ai-fake-scene-classification-2024/Train/450.jpg\n",
      "/kaggle/input/cidaut-ai-fake-scene-classification-2024/Train/775.jpg\n",
      "/kaggle/input/cidaut-ai-fake-scene-classification-2024/Train/636.jpg\n",
      "/kaggle/input/cidaut-ai-fake-scene-classification-2024/Train/158.jpg\n",
      "/kaggle/input/cidaut-ai-fake-scene-classification-2024/Train/587.jpg\n",
      "/kaggle/input/cidaut-ai-fake-scene-classification-2024/Train/575.jpg\n",
      "/kaggle/input/cidaut-ai-fake-scene-classification-2024/Train/772.jpg\n",
      "/kaggle/input/cidaut-ai-fake-scene-classification-2024/Train/148.jpg\n",
      "/kaggle/input/cidaut-ai-fake-scene-classification-2024/Train/31.jpg\n",
      "/kaggle/input/cidaut-ai-fake-scene-classification-2024/Train/586.jpg\n",
      "/kaggle/input/cidaut-ai-fake-scene-classification-2024/Train/263.jpg\n",
      "/kaggle/input/cidaut-ai-fake-scene-classification-2024/Train/195.jpg\n",
      "/kaggle/input/cidaut-ai-fake-scene-classification-2024/Train/756.jpg\n",
      "/kaggle/input/cidaut-ai-fake-scene-classification-2024/Train/502.jpg\n",
      "/kaggle/input/cidaut-ai-fake-scene-classification-2024/Train/841.jpg\n",
      "/kaggle/input/cidaut-ai-fake-scene-classification-2024/Train/847.jpg\n",
      "/kaggle/input/cidaut-ai-fake-scene-classification-2024/Train/255.jpg\n",
      "/kaggle/input/cidaut-ai-fake-scene-classification-2024/Train/761.jpg\n",
      "/kaggle/input/cidaut-ai-fake-scene-classification-2024/Train/114.jpg\n",
      "/kaggle/input/cidaut-ai-fake-scene-classification-2024/Train/552.jpg\n",
      "/kaggle/input/cidaut-ai-fake-scene-classification-2024/Train/693.jpg\n",
      "/kaggle/input/cidaut-ai-fake-scene-classification-2024/Train/406.jpg\n",
      "/kaggle/input/cidaut-ai-fake-scene-classification-2024/Train/281.jpg\n",
      "/kaggle/input/cidaut-ai-fake-scene-classification-2024/Train/43.jpg\n",
      "/kaggle/input/cidaut-ai-fake-scene-classification-2024/Train/709.jpg\n",
      "/kaggle/input/cidaut-ai-fake-scene-classification-2024/Train/138.jpg\n",
      "/kaggle/input/cidaut-ai-fake-scene-classification-2024/Train/650.jpg\n",
      "/kaggle/input/cidaut-ai-fake-scene-classification-2024/Train/496.jpg\n",
      "/kaggle/input/cidaut-ai-fake-scene-classification-2024/Train/582.jpg\n",
      "/kaggle/input/cidaut-ai-fake-scene-classification-2024/Train/207.jpg\n",
      "/kaggle/input/cidaut-ai-fake-scene-classification-2024/Train/209.jpg\n",
      "/kaggle/input/cidaut-ai-fake-scene-classification-2024/Train/598.jpg\n",
      "/kaggle/input/cidaut-ai-fake-scene-classification-2024/Train/100.jpg\n",
      "/kaggle/input/cidaut-ai-fake-scene-classification-2024/Train/376.jpg\n",
      "/kaggle/input/cidaut-ai-fake-scene-classification-2024/Train/844.jpg\n",
      "/kaggle/input/cidaut-ai-fake-scene-classification-2024/Train/13.jpg\n",
      "/kaggle/input/cidaut-ai-fake-scene-classification-2024/Train/74.jpg\n",
      "/kaggle/input/cidaut-ai-fake-scene-classification-2024/Train/617.jpg\n",
      "/kaggle/input/cidaut-ai-fake-scene-classification-2024/Train/882.jpg\n",
      "/kaggle/input/cidaut-ai-fake-scene-classification-2024/Train/773.jpg\n",
      "/kaggle/input/cidaut-ai-fake-scene-classification-2024/Train/669.jpg\n",
      "/kaggle/input/cidaut-ai-fake-scene-classification-2024/Train/323.jpg\n",
      "/kaggle/input/cidaut-ai-fake-scene-classification-2024/Train/667.jpg\n",
      "/kaggle/input/cidaut-ai-fake-scene-classification-2024/Train/337.jpg\n",
      "/kaggle/input/cidaut-ai-fake-scene-classification-2024/Train/789.jpg\n",
      "/kaggle/input/cidaut-ai-fake-scene-classification-2024/Train/644.jpg\n",
      "/kaggle/input/cidaut-ai-fake-scene-classification-2024/Train/507.jpg\n",
      "/kaggle/input/cidaut-ai-fake-scene-classification-2024/Train/223.jpg\n",
      "/kaggle/input/cidaut-ai-fake-scene-classification-2024/Train/849.jpg\n",
      "/kaggle/input/cidaut-ai-fake-scene-classification-2024/Train/417.jpg\n",
      "/kaggle/input/cidaut-ai-fake-scene-classification-2024/Train/780.jpg\n",
      "/kaggle/input/cidaut-ai-fake-scene-classification-2024/Train/762.jpg\n",
      "/kaggle/input/cidaut-ai-fake-scene-classification-2024/Train/447.jpg\n",
      "/kaggle/input/cidaut-ai-fake-scene-classification-2024/Train/236.jpg\n",
      "/kaggle/input/cidaut-ai-fake-scene-classification-2024/Train/363.jpg\n",
      "/kaggle/input/cidaut-ai-fake-scene-classification-2024/Train/68.jpg\n",
      "/kaggle/input/cidaut-ai-fake-scene-classification-2024/Train/581.jpg\n",
      "/kaggle/input/cidaut-ai-fake-scene-classification-2024/Train/852.jpg\n",
      "/kaggle/input/cidaut-ai-fake-scene-classification-2024/Train/53.jpg\n",
      "/kaggle/input/cidaut-ai-fake-scene-classification-2024/Train/83.jpg\n",
      "/kaggle/input/cidaut-ai-fake-scene-classification-2024/Train/755.jpg\n",
      "/kaggle/input/cidaut-ai-fake-scene-classification-2024/Train/588.jpg\n",
      "/kaggle/input/cidaut-ai-fake-scene-classification-2024/Train/107.jpg\n",
      "/kaggle/input/cidaut-ai-fake-scene-classification-2024/Train/609.jpg\n",
      "/kaggle/input/cidaut-ai-fake-scene-classification-2024/Train/347.jpg\n",
      "/kaggle/input/cidaut-ai-fake-scene-classification-2024/Train/354.jpg\n",
      "/kaggle/input/cidaut-ai-fake-scene-classification-2024/Train/154.jpg\n",
      "/kaggle/input/cidaut-ai-fake-scene-classification-2024/Train/206.jpg\n",
      "/kaggle/input/cidaut-ai-fake-scene-classification-2024/Train/164.jpg\n",
      "/kaggle/input/cidaut-ai-fake-scene-classification-2024/Train/301.jpg\n",
      "/kaggle/input/cidaut-ai-fake-scene-classification-2024/Train/146.jpg\n",
      "/kaggle/input/cidaut-ai-fake-scene-classification-2024/Train/571.jpg\n",
      "/kaggle/input/cidaut-ai-fake-scene-classification-2024/Train/161.jpg\n",
      "/kaggle/input/cidaut-ai-fake-scene-classification-2024/Train/805.jpg\n",
      "/kaggle/input/cidaut-ai-fake-scene-classification-2024/Train/869.jpg\n",
      "/kaggle/input/cidaut-ai-fake-scene-classification-2024/Train/698.jpg\n",
      "/kaggle/input/cidaut-ai-fake-scene-classification-2024/Train/681.jpg\n",
      "/kaggle/input/cidaut-ai-fake-scene-classification-2024/Train/198.jpg\n",
      "/kaggle/input/cidaut-ai-fake-scene-classification-2024/Train/528.jpg\n",
      "/kaggle/input/cidaut-ai-fake-scene-classification-2024/Train/277.jpg\n",
      "/kaggle/input/cidaut-ai-fake-scene-classification-2024/Train/877.jpg\n",
      "/kaggle/input/cidaut-ai-fake-scene-classification-2024/Train/618.jpg\n",
      "/kaggle/input/cidaut-ai-fake-scene-classification-2024/Train/331.jpg\n",
      "/kaggle/input/cidaut-ai-fake-scene-classification-2024/Train/594.jpg\n",
      "/kaggle/input/cidaut-ai-fake-scene-classification-2024/Train/624.jpg\n",
      "/kaggle/input/cidaut-ai-fake-scene-classification-2024/Train/445.jpg\n",
      "/kaggle/input/cidaut-ai-fake-scene-classification-2024/Train/578.jpg\n",
      "/kaggle/input/cidaut-ai-fake-scene-classification-2024/Train/233.jpg\n",
      "/kaggle/input/cidaut-ai-fake-scene-classification-2024/Train/585.jpg\n",
      "/kaggle/input/cidaut-ai-fake-scene-classification-2024/Train/318.jpg\n",
      "/kaggle/input/cidaut-ai-fake-scene-classification-2024/Train/416.jpg\n",
      "/kaggle/input/cidaut-ai-fake-scene-classification-2024/Train/200.jpg\n",
      "/kaggle/input/cidaut-ai-fake-scene-classification-2024/Train/800.jpg\n",
      "/kaggle/input/cidaut-ai-fake-scene-classification-2024/Train/886.jpg\n",
      "/kaggle/input/cidaut-ai-fake-scene-classification-2024/Train/676.jpg\n",
      "/kaggle/input/cidaut-ai-fake-scene-classification-2024/Train/741.jpg\n",
      "/kaggle/input/cidaut-ai-fake-scene-classification-2024/Train/488.jpg\n",
      "/kaggle/input/cidaut-ai-fake-scene-classification-2024/Train/781.jpg\n",
      "/kaggle/input/cidaut-ai-fake-scene-classification-2024/Train/244.jpg\n",
      "/kaggle/input/cidaut-ai-fake-scene-classification-2024/Train/675.jpg\n",
      "/kaggle/input/cidaut-ai-fake-scene-classification-2024/Train/220.jpg\n",
      "/kaggle/input/cidaut-ai-fake-scene-classification-2024/Train/783.jpg\n",
      "/kaggle/input/cidaut-ai-fake-scene-classification-2024/Train/17.jpg\n",
      "/kaggle/input/cidaut-ai-fake-scene-classification-2024/Train/492.jpg\n",
      "/kaggle/input/cidaut-ai-fake-scene-classification-2024/Train/834.jpg\n",
      "/kaggle/input/cidaut-ai-fake-scene-classification-2024/Train/157.jpg\n",
      "/kaggle/input/cidaut-ai-fake-scene-classification-2024/Train/777.jpg\n",
      "/kaggle/input/cidaut-ai-fake-scene-classification-2024/Train/438.jpg\n",
      "/kaggle/input/cidaut-ai-fake-scene-classification-2024/Train/26.jpg\n",
      "/kaggle/input/cidaut-ai-fake-scene-classification-2024/Train/848.jpg\n",
      "/kaggle/input/cidaut-ai-fake-scene-classification-2024/Train/351.jpg\n",
      "/kaggle/input/cidaut-ai-fake-scene-classification-2024/Train/638.jpg\n",
      "/kaggle/input/cidaut-ai-fake-scene-classification-2024/Train/726.jpg\n",
      "/kaggle/input/cidaut-ai-fake-scene-classification-2024/Train/891.jpg\n",
      "/kaggle/input/cidaut-ai-fake-scene-classification-2024/Train/183.jpg\n",
      "/kaggle/input/cidaut-ai-fake-scene-classification-2024/Train/858.jpg\n",
      "/kaggle/input/cidaut-ai-fake-scene-classification-2024/Train/219.jpg\n",
      "/kaggle/input/cidaut-ai-fake-scene-classification-2024/Train/373.jpg\n",
      "/kaggle/input/cidaut-ai-fake-scene-classification-2024/Train/240.jpg\n",
      "/kaggle/input/cidaut-ai-fake-scene-classification-2024/Train/459.jpg\n",
      "/kaggle/input/cidaut-ai-fake-scene-classification-2024/Train/288.jpg\n",
      "/kaggle/input/cidaut-ai-fake-scene-classification-2024/Train/242.jpg\n",
      "/kaggle/input/cidaut-ai-fake-scene-classification-2024/Train/86.jpg\n",
      "/kaggle/input/cidaut-ai-fake-scene-classification-2024/Train/229.jpg\n",
      "/kaggle/input/cidaut-ai-fake-scene-classification-2024/Train/870.jpg\n",
      "/kaggle/input/cidaut-ai-fake-scene-classification-2024/Train/222.jpg\n",
      "/kaggle/input/cidaut-ai-fake-scene-classification-2024/Train/787.jpg\n",
      "/kaggle/input/cidaut-ai-fake-scene-classification-2024/Train/330.jpg\n",
      "/kaggle/input/cidaut-ai-fake-scene-classification-2024/Train/15.jpg\n",
      "/kaggle/input/cidaut-ai-fake-scene-classification-2024/Train/628.jpg\n",
      "/kaggle/input/cidaut-ai-fake-scene-classification-2024/Train/692.jpg\n",
      "/kaggle/input/cidaut-ai-fake-scene-classification-2024/Train/798.jpg\n",
      "/kaggle/input/cidaut-ai-fake-scene-classification-2024/Train/813.jpg\n",
      "/kaggle/input/cidaut-ai-fake-scene-classification-2024/Train/383.jpg\n",
      "/kaggle/input/cidaut-ai-fake-scene-classification-2024/Train/865.jpg\n",
      "/kaggle/input/cidaut-ai-fake-scene-classification-2024/Train/557.jpg\n",
      "/kaggle/input/cidaut-ai-fake-scene-classification-2024/Train/487.jpg\n",
      "/kaggle/input/cidaut-ai-fake-scene-classification-2024/Train/119.jpg\n",
      "/kaggle/input/cidaut-ai-fake-scene-classification-2024/Train/165.jpg\n",
      "/kaggle/input/cidaut-ai-fake-scene-classification-2024/Train/570.jpg\n",
      "/kaggle/input/cidaut-ai-fake-scene-classification-2024/Train/606.jpg\n",
      "/kaggle/input/cidaut-ai-fake-scene-classification-2024/Train/778.jpg\n",
      "/kaggle/input/cidaut-ai-fake-scene-classification-2024/Train/12.jpg\n",
      "/kaggle/input/cidaut-ai-fake-scene-classification-2024/Train/722.jpg\n",
      "/kaggle/input/cidaut-ai-fake-scene-classification-2024/Train/224.jpg\n",
      "/kaggle/input/cidaut-ai-fake-scene-classification-2024/Train/706.jpg\n",
      "/kaggle/input/cidaut-ai-fake-scene-classification-2024/Train/141.jpg\n",
      "/kaggle/input/cidaut-ai-fake-scene-classification-2024/Train/746.jpg\n",
      "/kaggle/input/cidaut-ai-fake-scene-classification-2024/Train/616.jpg\n",
      "/kaggle/input/cidaut-ai-fake-scene-classification-2024/Train/845.jpg\n",
      "/kaggle/input/cidaut-ai-fake-scene-classification-2024/Train/92.jpg\n",
      "/kaggle/input/cidaut-ai-fake-scene-classification-2024/Train/893.jpg\n",
      "/kaggle/input/cidaut-ai-fake-scene-classification-2024/Train/495.jpg\n",
      "/kaggle/input/cidaut-ai-fake-scene-classification-2024/Train/293.jpg\n",
      "/kaggle/input/cidaut-ai-fake-scene-classification-2024/Train/497.jpg\n",
      "/kaggle/input/cidaut-ai-fake-scene-classification-2024/Train/859.jpg\n",
      "/kaggle/input/cidaut-ai-fake-scene-classification-2024/Train/686.jpg\n",
      "/kaggle/input/cidaut-ai-fake-scene-classification-2024/Train/305.jpg\n",
      "/kaggle/input/cidaut-ai-fake-scene-classification-2024/Train/11.jpg\n",
      "/kaggle/input/cidaut-ai-fake-scene-classification-2024/Train/491.jpg\n",
      "/kaggle/input/cidaut-ai-fake-scene-classification-2024/Train/70.jpg\n",
      "/kaggle/input/cidaut-ai-fake-scene-classification-2024/Train/592.jpg\n",
      "/kaggle/input/cidaut-ai-fake-scene-classification-2024/Train/652.jpg\n",
      "/kaggle/input/cidaut-ai-fake-scene-classification-2024/Train/843.jpg\n",
      "/kaggle/input/cidaut-ai-fake-scene-classification-2024/Train/439.jpg\n",
      "/kaggle/input/cidaut-ai-fake-scene-classification-2024/Train/453.jpg\n",
      "/kaggle/input/cidaut-ai-fake-scene-classification-2024/Train/181.jpg\n",
      "/kaggle/input/cidaut-ai-fake-scene-classification-2024/Train/484.jpg\n",
      "/kaggle/input/cidaut-ai-fake-scene-classification-2024/Train/405.jpg\n",
      "/kaggle/input/cidaut-ai-fake-scene-classification-2024/Train/579.jpg\n",
      "/kaggle/input/cidaut-ai-fake-scene-classification-2024/Train/779.jpg\n",
      "/kaggle/input/cidaut-ai-fake-scene-classification-2024/Train/568.jpg\n",
      "/kaggle/input/cidaut-ai-fake-scene-classification-2024/Train/550.jpg\n",
      "/kaggle/input/cidaut-ai-fake-scene-classification-2024/Train/674.jpg\n",
      "/kaggle/input/cidaut-ai-fake-scene-classification-2024/Train/472.jpg\n",
      "/kaggle/input/cidaut-ai-fake-scene-classification-2024/Train/900.jpg\n",
      "/kaggle/input/cidaut-ai-fake-scene-classification-2024/Train/259.jpg\n",
      "/kaggle/input/cidaut-ai-fake-scene-classification-2024/Train/389.jpg\n",
      "/kaggle/input/cidaut-ai-fake-scene-classification-2024/Train/34.jpg\n",
      "/kaggle/input/cidaut-ai-fake-scene-classification-2024/Train/661.jpg\n",
      "/kaggle/input/cidaut-ai-fake-scene-classification-2024/Train/411.jpg\n",
      "/kaggle/input/cidaut-ai-fake-scene-classification-2024/Train/27.jpg\n",
      "/kaggle/input/cidaut-ai-fake-scene-classification-2024/Train/718.jpg\n",
      "/kaggle/input/cidaut-ai-fake-scene-classification-2024/Train/370.jpg\n",
      "/kaggle/input/cidaut-ai-fake-scene-classification-2024/Train/399.jpg\n",
      "/kaggle/input/cidaut-ai-fake-scene-classification-2024/Train/294.jpg\n",
      "/kaggle/input/cidaut-ai-fake-scene-classification-2024/Train/479.jpg\n",
      "/kaggle/input/cidaut-ai-fake-scene-classification-2024/Train/409.jpg\n",
      "/kaggle/input/cidaut-ai-fake-scene-classification-2024/Train/791.jpg\n",
      "/kaggle/input/cidaut-ai-fake-scene-classification-2024/Train/51.jpg\n",
      "/kaggle/input/cidaut-ai-fake-scene-classification-2024/Train/262.jpg\n",
      "/kaggle/input/cidaut-ai-fake-scene-classification-2024/Train/448.jpg\n",
      "/kaggle/input/cidaut-ai-fake-scene-classification-2024/Train/132.jpg\n",
      "/kaggle/input/cidaut-ai-fake-scene-classification-2024/Train/729.jpg\n",
      "/kaggle/input/cidaut-ai-fake-scene-classification-2024/Train/52.jpg\n",
      "/kaggle/input/cidaut-ai-fake-scene-classification-2024/Train/341.jpg\n",
      "/kaggle/input/cidaut-ai-fake-scene-classification-2024/Train/804.jpg\n",
      "/kaggle/input/cidaut-ai-fake-scene-classification-2024/Train/309.jpg\n",
      "/kaggle/input/cidaut-ai-fake-scene-classification-2024/Train/895.jpg\n",
      "/kaggle/input/cidaut-ai-fake-scene-classification-2024/Train/365.jpg\n",
      "/kaggle/input/cidaut-ai-fake-scene-classification-2024/Train/312.jpg\n",
      "/kaggle/input/cidaut-ai-fake-scene-classification-2024/Train/867.jpg\n",
      "/kaggle/input/cidaut-ai-fake-scene-classification-2024/Train/184.jpg\n",
      "/kaggle/input/cidaut-ai-fake-scene-classification-2024/Train/862.jpg\n",
      "/kaggle/input/cidaut-ai-fake-scene-classification-2024/Train/300.jpg\n",
      "/kaggle/input/cidaut-ai-fake-scene-classification-2024/Train/250.jpg\n",
      "/kaggle/input/cidaut-ai-fake-scene-classification-2024/Train/583.jpg\n",
      "/kaggle/input/cidaut-ai-fake-scene-classification-2024/Train/688.jpg\n",
      "/kaggle/input/cidaut-ai-fake-scene-classification-2024/Train/556.jpg\n",
      "/kaggle/input/cidaut-ai-fake-scene-classification-2024/Train/711.jpg\n",
      "/kaggle/input/cidaut-ai-fake-scene-classification-2024/Train/540.jpg\n",
      "/kaggle/input/cidaut-ai-fake-scene-classification-2024/Train/855.jpg\n",
      "/kaggle/input/cidaut-ai-fake-scene-classification-2024/Train/493.jpg\n",
      "/kaggle/input/cidaut-ai-fake-scene-classification-2024/Train/125.jpg\n",
      "/kaggle/input/cidaut-ai-fake-scene-classification-2024/Train/666.jpg\n",
      "/kaggle/input/cidaut-ai-fake-scene-classification-2024/Train/128.jpg\n",
      "/kaggle/input/cidaut-ai-fake-scene-classification-2024/Train/172.jpg\n",
      "/kaggle/input/cidaut-ai-fake-scene-classification-2024/Train/553.jpg\n",
      "/kaggle/input/cidaut-ai-fake-scene-classification-2024/Train/3.jpg\n",
      "/kaggle/input/cidaut-ai-fake-scene-classification-2024/Train/442.jpg\n",
      "/kaggle/input/cidaut-ai-fake-scene-classification-2024/Train/36.jpg\n",
      "/kaggle/input/cidaut-ai-fake-scene-classification-2024/Train/384.jpg\n",
      "/kaggle/input/cidaut-ai-fake-scene-classification-2024/Train/610.jpg\n",
      "/kaggle/input/cidaut-ai-fake-scene-classification-2024/Train/838.jpg\n",
      "/kaggle/input/cidaut-ai-fake-scene-classification-2024/Train/816.jpg\n",
      "/kaggle/input/cidaut-ai-fake-scene-classification-2024/Train/217.jpg\n",
      "/kaggle/input/cidaut-ai-fake-scene-classification-2024/Train/615.jpg\n",
      "/kaggle/input/cidaut-ai-fake-scene-classification-2024/Train/694.jpg\n",
      "/kaggle/input/cidaut-ai-fake-scene-classification-2024/Train/536.jpg\n",
      "/kaggle/input/cidaut-ai-fake-scene-classification-2024/Train/608.jpg\n",
      "/kaggle/input/cidaut-ai-fake-scene-classification-2024/Train/386.jpg\n",
      "/kaggle/input/cidaut-ai-fake-scene-classification-2024/Train/96.jpg\n",
      "/kaggle/input/cidaut-ai-fake-scene-classification-2024/Train/600.jpg\n",
      "/kaggle/input/cidaut-ai-fake-scene-classification-2024/Train/348.jpg\n",
      "/kaggle/input/cidaut-ai-fake-scene-classification-2024/Train/584.jpg\n",
      "/kaggle/input/cidaut-ai-fake-scene-classification-2024/Train/404.jpg\n",
      "/kaggle/input/cidaut-ai-fake-scene-classification-2024/Train/144.jpg\n",
      "/kaggle/input/cidaut-ai-fake-scene-classification-2024/Train/662.jpg\n",
      "/kaggle/input/cidaut-ai-fake-scene-classification-2024/Train/110.jpg\n",
      "/kaggle/input/cidaut-ai-fake-scene-classification-2024/Train/655.jpg\n",
      "/kaggle/input/cidaut-ai-fake-scene-classification-2024/Train/413.jpg\n",
      "/kaggle/input/cidaut-ai-fake-scene-classification-2024/Train/407.jpg\n",
      "/kaggle/input/cidaut-ai-fake-scene-classification-2024/Train/522.jpg\n",
      "/kaggle/input/cidaut-ai-fake-scene-classification-2024/Train/790.jpg\n",
      "/kaggle/input/cidaut-ai-fake-scene-classification-2024/Train/325.jpg\n",
      "/kaggle/input/cidaut-ai-fake-scene-classification-2024/Train/510.jpg\n",
      "/kaggle/input/cidaut-ai-fake-scene-classification-2024/Train/739.jpg\n",
      "/kaggle/input/cidaut-ai-fake-scene-classification-2024/Train/437.jpg\n",
      "/kaggle/input/cidaut-ai-fake-scene-classification-2024/Train/724.jpg\n",
      "/kaggle/input/cidaut-ai-fake-scene-classification-2024/Train/712.jpg\n",
      "/kaggle/input/cidaut-ai-fake-scene-classification-2024/Train/812.jpg\n",
      "/kaggle/input/cidaut-ai-fake-scene-classification-2024/Train/625.jpg\n",
      "/kaggle/input/cidaut-ai-fake-scene-classification-2024/Train/471.jpg\n",
      "/kaggle/input/cidaut-ai-fake-scene-classification-2024/Train/63.jpg\n",
      "/kaggle/input/cidaut-ai-fake-scene-classification-2024/Train/621.jpg\n",
      "/kaggle/input/cidaut-ai-fake-scene-classification-2024/Train/733.jpg\n",
      "/kaggle/input/cidaut-ai-fake-scene-classification-2024/Train/782.jpg\n",
      "/kaggle/input/cidaut-ai-fake-scene-classification-2024/Train/888.jpg\n",
      "/kaggle/input/cidaut-ai-fake-scene-classification-2024/Train/162.jpg\n",
      "/kaggle/input/cidaut-ai-fake-scene-classification-2024/Train/231.jpg\n",
      "/kaggle/input/cidaut-ai-fake-scene-classification-2024/Train/643.jpg\n",
      "/kaggle/input/cidaut-ai-fake-scene-classification-2024/Train/499.jpg\n",
      "/kaggle/input/cidaut-ai-fake-scene-classification-2024/Train/508.jpg\n",
      "/kaggle/input/cidaut-ai-fake-scene-classification-2024/Train/19.jpg\n",
      "/kaggle/input/cidaut-ai-fake-scene-classification-2024/Train/201.jpg\n",
      "/kaggle/input/cidaut-ai-fake-scene-classification-2024/Train/303.jpg\n",
      "/kaggle/input/cidaut-ai-fake-scene-classification-2024/Train/725.jpg\n",
      "/kaggle/input/cidaut-ai-fake-scene-classification-2024/Train/514.jpg\n",
      "/kaggle/input/cidaut-ai-fake-scene-classification-2024/Train/866.jpg\n",
      "/kaggle/input/cidaut-ai-fake-scene-classification-2024/Train/87.jpg\n",
      "/kaggle/input/cidaut-ai-fake-scene-classification-2024/Train/47.jpg\n",
      "/kaggle/input/cidaut-ai-fake-scene-classification-2024/Train/612.jpg\n",
      "/kaggle/input/cidaut-ai-fake-scene-classification-2024/Train/562.jpg\n",
      "/kaggle/input/cidaut-ai-fake-scene-classification-2024/Train/282.jpg\n",
      "/kaggle/input/cidaut-ai-fake-scene-classification-2024/Train/547.jpg\n",
      "/kaggle/input/cidaut-ai-fake-scene-classification-2024/Train/93.jpg\n",
      "/kaggle/input/cidaut-ai-fake-scene-classification-2024/Train/470.jpg\n",
      "/kaggle/input/cidaut-ai-fake-scene-classification-2024/Train/170.jpg\n",
      "/kaggle/input/cidaut-ai-fake-scene-classification-2024/Train/857.jpg\n",
      "/kaggle/input/cidaut-ai-fake-scene-classification-2024/Train/428.jpg\n",
      "/kaggle/input/cidaut-ai-fake-scene-classification-2024/Train/803.jpg\n",
      "/kaggle/input/cidaut-ai-fake-scene-classification-2024/Train/14.jpg\n",
      "/kaggle/input/cidaut-ai-fake-scene-classification-2024/Train/823.jpg\n",
      "/kaggle/input/cidaut-ai-fake-scene-classification-2024/Train/549.jpg\n",
      "/kaggle/input/cidaut-ai-fake-scene-classification-2024/Train/519.jpg\n",
      "/kaggle/input/cidaut-ai-fake-scene-classification-2024/Train/18.jpg\n",
      "/kaggle/input/cidaut-ai-fake-scene-classification-2024/Train/697.jpg\n",
      "/kaggle/input/cidaut-ai-fake-scene-classification-2024/Train/268.jpg\n",
      "/kaggle/input/cidaut-ai-fake-scene-classification-2024/Train/517.jpg\n",
      "/kaggle/input/cidaut-ai-fake-scene-classification-2024/Train/607.jpg\n",
      "/kaggle/input/cidaut-ai-fake-scene-classification-2024/Train/345.jpg\n",
      "/kaggle/input/cidaut-ai-fake-scene-classification-2024/Train/226.jpg\n",
      "/kaggle/input/cidaut-ai-fake-scene-classification-2024/Train/740.jpg\n",
      "/kaggle/input/cidaut-ai-fake-scene-classification-2024/Train/637.jpg\n",
      "/kaggle/input/cidaut-ai-fake-scene-classification-2024/Train/462.jpg\n",
      "/kaggle/input/cidaut-ai-fake-scene-classification-2024/Train/116.jpg\n",
      "/kaggle/input/cidaut-ai-fake-scene-classification-2024/Train/898.jpg\n",
      "/kaggle/input/cidaut-ai-fake-scene-classification-2024/Train/614.jpg\n",
      "/kaggle/input/cidaut-ai-fake-scene-classification-2024/Train/78.jpg\n",
      "/kaggle/input/cidaut-ai-fake-scene-classification-2024/Train/367.jpg\n",
      "/kaggle/input/cidaut-ai-fake-scene-classification-2024/Train/266.jpg\n",
      "/kaggle/input/cidaut-ai-fake-scene-classification-2024/Train/245.jpg\n",
      "/kaggle/input/cidaut-ai-fake-scene-classification-2024/Train/861.jpg\n",
      "/kaggle/input/cidaut-ai-fake-scene-classification-2024/Train/460.jpg\n",
      "/kaggle/input/cidaut-ai-fake-scene-classification-2024/Train/232.jpg\n",
      "/kaggle/input/cidaut-ai-fake-scene-classification-2024/Train/883.jpg\n",
      "/kaggle/input/cidaut-ai-fake-scene-classification-2024/Train/752.jpg\n",
      "/kaggle/input/cidaut-ai-fake-scene-classification-2024/Train/797.jpg\n",
      "/kaggle/input/cidaut-ai-fake-scene-classification-2024/Train/796.jpg\n",
      "/kaggle/input/cidaut-ai-fake-scene-classification-2024/Train/203.jpg\n",
      "/kaggle/input/cidaut-ai-fake-scene-classification-2024/Train/640.jpg\n",
      "/kaggle/input/cidaut-ai-fake-scene-classification-2024/Train/679.jpg\n",
      "/kaggle/input/cidaut-ai-fake-scene-classification-2024/Train/714.jpg\n",
      "/kaggle/input/cidaut-ai-fake-scene-classification-2024/Train/542.jpg\n",
      "/kaggle/input/cidaut-ai-fake-scene-classification-2024/Train/66.jpg\n",
      "/kaggle/input/cidaut-ai-fake-scene-classification-2024/Train/511.jpg\n",
      "/kaggle/input/cidaut-ai-fake-scene-classification-2024/Train/632.jpg\n",
      "/kaggle/input/cidaut-ai-fake-scene-classification-2024/Train/483.jpg\n",
      "/kaggle/input/cidaut-ai-fake-scene-classification-2024/Train/306.jpg\n",
      "/kaggle/input/cidaut-ai-fake-scene-classification-2024/Train/839.jpg\n",
      "/kaggle/input/cidaut-ai-fake-scene-classification-2024/Train/647.jpg\n",
      "/kaggle/input/cidaut-ai-fake-scene-classification-2024/Train/395.jpg\n",
      "/kaggle/input/cidaut-ai-fake-scene-classification-2024/Train/423.jpg\n",
      "/kaggle/input/cidaut-ai-fake-scene-classification-2024/Train/307.jpg\n",
      "/kaggle/input/cidaut-ai-fake-scene-classification-2024/Train/593.jpg\n",
      "/kaggle/input/cidaut-ai-fake-scene-classification-2024/Train/504.jpg\n",
      "/kaggle/input/cidaut-ai-fake-scene-classification-2024/Train/129.jpg\n",
      "/kaggle/input/cidaut-ai-fake-scene-classification-2024/Train/735.jpg\n",
      "/kaggle/input/cidaut-ai-fake-scene-classification-2024/Train/2.jpg\n",
      "/kaggle/input/cidaut-ai-fake-scene-classification-2024/Train/205.jpg\n",
      "/kaggle/input/cidaut-ai-fake-scene-classification-2024/Train/422.jpg\n",
      "/kaggle/input/cidaut-ai-fake-scene-classification-2024/Train/551.jpg\n",
      "/kaggle/input/cidaut-ai-fake-scene-classification-2024/Train/315.jpg\n",
      "/kaggle/input/cidaut-ai-fake-scene-classification-2024/Train/810.jpg\n",
      "/kaggle/input/cidaut-ai-fake-scene-classification-2024/Train/218.jpg\n",
      "/kaggle/input/cidaut-ai-fake-scene-classification-2024/Train/635.jpg\n",
      "/kaggle/input/cidaut-ai-fake-scene-classification-2024/Train/249.jpg\n",
      "/kaggle/input/cidaut-ai-fake-scene-classification-2024/Train/213.jpg\n",
      "/kaggle/input/cidaut-ai-fake-scene-classification-2024/Train/830.jpg\n",
      "/kaggle/input/cidaut-ai-fake-scene-classification-2024/Train/431.jpg\n",
      "/kaggle/input/cidaut-ai-fake-scene-classification-2024/Train/597.jpg\n",
      "/kaggle/input/cidaut-ai-fake-scene-classification-2024/Train/461.jpg\n",
      "/kaggle/input/cidaut-ai-fake-scene-classification-2024/Train/136.jpg\n",
      "/kaggle/input/cidaut-ai-fake-scene-classification-2024/Train/605.jpg\n",
      "/kaggle/input/cidaut-ai-fake-scene-classification-2024/Train/753.jpg\n",
      "/kaggle/input/cidaut-ai-fake-scene-classification-2024/Train/364.jpg\n",
      "/kaggle/input/cidaut-ai-fake-scene-classification-2024/Train/90.jpg\n",
      "/kaggle/input/cidaut-ai-fake-scene-classification-2024/Train/599.jpg\n",
      "/kaggle/input/cidaut-ai-fake-scene-classification-2024/Train/25.jpg\n",
      "/kaggle/input/cidaut-ai-fake-scene-classification-2024/Train/147.jpg\n",
      "/kaggle/input/cidaut-ai-fake-scene-classification-2024/Train/728.jpg\n"
     ]
    }
   ],
   "source": [
    "# This Python 3 environment comes with many helpful analytics libraries installed\n",
    "# It is defined by the kaggle/python Docker image: https://github.com/kaggle/docker-python\n",
    "# For example, here's several helpful packages to load\n",
    "\n",
    "import numpy as np # linear algebra\n",
    "import pandas as pd # data processing, CSV file I/O (e.g. pd.read_csv)\n",
    "\n",
    "# Input data files are available in the read-only \"../input/\" directory\n",
    "# For example, running this (by clicking run or pressing Shift+Enter) will list all files under the input directory\n",
    "\n",
    "import os\n",
    "for dirname, _, filenames in os.walk('/kaggle/input'):\n",
    "    for filename in filenames:\n",
    "        print(os.path.join(dirname, filename))\n",
    "\n",
    "# You can write up to 20GB to the current directory (/kaggle/working/) that gets preserved as output when you create a version using \"Save & Run All\" \n",
    "# You can also write temporary files to /kaggle/temp/, but they won't be saved outside of the current session"
   ]
  },
  {
   "cell_type": "code",
   "execution_count": 2,
   "id": "43b480b4",
   "metadata": {
    "execution": {
     "iopub.execute_input": "2025-01-16T19:17:50.543661Z",
     "iopub.status.busy": "2025-01-16T19:17:50.543264Z",
     "iopub.status.idle": "2025-01-16T19:18:10.747034Z",
     "shell.execute_reply": "2025-01-16T19:18:10.746117Z"
    },
    "papermill": {
     "duration": 20.216946,
     "end_time": "2025-01-16T19:18:10.748625",
     "exception": false,
     "start_time": "2025-01-16T19:17:50.531679",
     "status": "completed"
    },
    "tags": []
   },
   "outputs": [],
   "source": [
    "import pydotplus\n",
    "import pydot\n",
    "from tensorflow.keras.applications import VGG16\n",
    "from tensorflow.keras.layers import Dense, Flatten, Dropout\n",
    "from tensorflow.keras.models import Model\n",
    "from tensorflow.keras.preprocessing.image import ImageDataGenerator\n",
    "from tensorflow.keras.callbacks import EarlyStopping, ModelCheckpoint\n",
    "from sklearn.metrics import roc_curve, auc\n",
    "import matplotlib.pyplot as plt\n",
    "from sklearn.model_selection import train_test_split\n",
    "from tensorflow.keras.models import Model\n",
    "from tensorflow.keras.layers import Dense, Flatten, Dropout, GlobalAveragePooling2D,Input\n",
    "from tensorflow.keras.applications import VGG16\n",
    "from tensorflow.keras.regularizers import l2\n",
    "from tensorflow.keras.applications import ResNet50\n",
    "from tensorflow.keras import Model\n",
    "from tensorflow.keras.models import Sequential\n",
    "from tensorflow.keras.utils import to_categorical\n",
    "from tensorflow.keras.losses import categorical_crossentropy\n",
    "from tensorflow.keras.preprocessing.image import ImageDataGenerator\n",
    "from tensorflow.keras.layers import Dense, Flatten, Conv2D, MaxPooling2D, Dropout\n",
    "import datetime\n",
    "import numpy as np\n",
    "import os\n",
    "import tensorflow as tf\n",
    "import matplotlib.pyplot as plt\n",
    "from tqdm import tqdm\n",
    "from tensorflow.keras.preprocessing.image import ImageDataGenerator\n",
    "from tensorflow.keras.preprocessing.image import load_img, img_to_array\n",
    "import cv2\n",
    "import torch\n",
    "import torch.nn as nn\n",
    "import torch.optim as optim\n",
    "from torch.utils.data import DataLoader, Dataset\n",
    "from torchvision import models, transforms\n",
    "from sklearn.metrics import roc_auc_score\n",
    "from sklearn.model_selection import train_test_split\n",
    "import pandas as pd\n",
    "from PIL import Image"
   ]
  },
  {
   "cell_type": "markdown",
   "id": "b9fd2de9",
   "metadata": {
    "papermill": {
     "duration": 0.01109,
     "end_time": "2025-01-16T19:18:10.771051",
     "exception": false,
     "start_time": "2025-01-16T19:18:10.759961",
     "status": "completed"
    },
    "tags": []
   },
   "source": [
    "# Load Data"
   ]
  },
  {
   "cell_type": "code",
   "execution_count": 3,
   "id": "7eb13144",
   "metadata": {
    "execution": {
     "iopub.execute_input": "2025-01-16T19:18:10.793828Z",
     "iopub.status.busy": "2025-01-16T19:18:10.793369Z",
     "iopub.status.idle": "2025-01-16T19:18:10.818490Z",
     "shell.execute_reply": "2025-01-16T19:18:10.817861Z"
    },
    "papermill": {
     "duration": 0.037669,
     "end_time": "2025-01-16T19:18:10.819736",
     "exception": false,
     "start_time": "2025-01-16T19:18:10.782067",
     "status": "completed"
    },
    "tags": []
   },
   "outputs": [],
   "source": [
    "#Load data\n",
    "train_path='/kaggle/input/cidaut-ai-fake-scene-classification-2024/Train'\n",
    "train = pd.read_csv('/kaggle/input/cidaut-ai-fake-scene-classification-2024/train.csv')\n",
    "train['image']=train['image'].apply(lambda x : os.path.join(train_path,x)) \n",
    "clss={'editada':0,'real':1}\n",
    "train['label']=train['label'].map(clss)"
   ]
  },
  {
   "cell_type": "code",
   "execution_count": 4,
   "id": "7a4b19f0",
   "metadata": {
    "execution": {
     "iopub.execute_input": "2025-01-16T19:18:10.842622Z",
     "iopub.status.busy": "2025-01-16T19:18:10.842397Z",
     "iopub.status.idle": "2025-01-16T19:18:10.854035Z",
     "shell.execute_reply": "2025-01-16T19:18:10.853231Z"
    },
    "papermill": {
     "duration": 0.024414,
     "end_time": "2025-01-16T19:18:10.855349",
     "exception": false,
     "start_time": "2025-01-16T19:18:10.830935",
     "status": "completed"
    },
    "tags": []
   },
   "outputs": [
    {
     "data": {
      "text/html": [
       "<div>\n",
       "<style scoped>\n",
       "    .dataframe tbody tr th:only-of-type {\n",
       "        vertical-align: middle;\n",
       "    }\n",
       "\n",
       "    .dataframe tbody tr th {\n",
       "        vertical-align: top;\n",
       "    }\n",
       "\n",
       "    .dataframe thead th {\n",
       "        text-align: right;\n",
       "    }\n",
       "</style>\n",
       "<table border=\"1\" class=\"dataframe\">\n",
       "  <thead>\n",
       "    <tr style=\"text-align: right;\">\n",
       "      <th></th>\n",
       "      <th>image</th>\n",
       "      <th>label</th>\n",
       "    </tr>\n",
       "  </thead>\n",
       "  <tbody>\n",
       "    <tr>\n",
       "      <th>0</th>\n",
       "      <td>/kaggle/input/cidaut-ai-fake-scene-classificat...</td>\n",
       "      <td>0</td>\n",
       "    </tr>\n",
       "    <tr>\n",
       "      <th>1</th>\n",
       "      <td>/kaggle/input/cidaut-ai-fake-scene-classificat...</td>\n",
       "      <td>1</td>\n",
       "    </tr>\n",
       "    <tr>\n",
       "      <th>2</th>\n",
       "      <td>/kaggle/input/cidaut-ai-fake-scene-classificat...</td>\n",
       "      <td>1</td>\n",
       "    </tr>\n",
       "    <tr>\n",
       "      <th>3</th>\n",
       "      <td>/kaggle/input/cidaut-ai-fake-scene-classificat...</td>\n",
       "      <td>0</td>\n",
       "    </tr>\n",
       "    <tr>\n",
       "      <th>4</th>\n",
       "      <td>/kaggle/input/cidaut-ai-fake-scene-classificat...</td>\n",
       "      <td>1</td>\n",
       "    </tr>\n",
       "  </tbody>\n",
       "</table>\n",
       "</div>"
      ],
      "text/plain": [
       "                                               image  label\n",
       "0  /kaggle/input/cidaut-ai-fake-scene-classificat...      0\n",
       "1  /kaggle/input/cidaut-ai-fake-scene-classificat...      1\n",
       "2  /kaggle/input/cidaut-ai-fake-scene-classificat...      1\n",
       "3  /kaggle/input/cidaut-ai-fake-scene-classificat...      0\n",
       "4  /kaggle/input/cidaut-ai-fake-scene-classificat...      1"
      ]
     },
     "execution_count": 4,
     "metadata": {},
     "output_type": "execute_result"
    }
   ],
   "source": [
    "train.head()"
   ]
  },
  {
   "cell_type": "markdown",
   "id": "b182eaba",
   "metadata": {
    "papermill": {
     "duration": 0.010801,
     "end_time": "2025-01-16T19:18:10.877842",
     "exception": false,
     "start_time": "2025-01-16T19:18:10.867041",
     "status": "completed"
    },
    "tags": []
   },
   "source": [
    "read img in HsV"
   ]
  },
  {
   "cell_type": "code",
   "execution_count": 5,
   "id": "a7a2d1bb",
   "metadata": {
    "execution": {
     "iopub.execute_input": "2025-01-16T19:18:10.901044Z",
     "iopub.status.busy": "2025-01-16T19:18:10.900795Z",
     "iopub.status.idle": "2025-01-16T19:18:10.904194Z",
     "shell.execute_reply": "2025-01-16T19:18:10.903592Z"
    },
    "papermill": {
     "duration": 0.016153,
     "end_time": "2025-01-16T19:18:10.905399",
     "exception": false,
     "start_time": "2025-01-16T19:18:10.889246",
     "status": "completed"
    },
    "tags": []
   },
   "outputs": [],
   "source": [
    "def processImgHSV(imgpath):\n",
    "    img = load_img(imgpath, target_size=(224, 224))  # Load the image and resize\n",
    "    img_array = img_to_array(img)  # Convert to a NumPy array\n",
    "    img_array /= 255.0  # Normalize pixel values to [0, 1]\n",
    "    \n",
    "    # Convert from RGB to HSV using OpenCV\n",
    "    img_hsv = cv2.cvtColor(np.array(img_array), cv2.COLOR_BGR2HLS)\n",
    "    return img_hsv"
   ]
  },
  {
   "cell_type": "code",
   "execution_count": 6,
   "id": "663e7371",
   "metadata": {
    "execution": {
     "iopub.execute_input": "2025-01-16T19:18:10.928267Z",
     "iopub.status.busy": "2025-01-16T19:18:10.927942Z",
     "iopub.status.idle": "2025-01-16T19:18:10.931793Z",
     "shell.execute_reply": "2025-01-16T19:18:10.931035Z"
    },
    "papermill": {
     "duration": 0.016724,
     "end_time": "2025-01-16T19:18:10.932951",
     "exception": false,
     "start_time": "2025-01-16T19:18:10.916227",
     "status": "completed"
    },
    "tags": []
   },
   "outputs": [],
   "source": [
    "def processImgHLS(imgpath):\n",
    "    img = load_img(imgpath, target_size=(224, 224))  # Load the image and resize\n",
    "    img_array = img_to_array(img)  # Convert to a NumPy array\n",
    "    img_array /= 255.0  # Normalize pixel values to [0, 1]\n",
    "    \n",
    "    # Convert from RGB to HSV using OpenCV\n",
    "    img_hsv = cv2.cvtColor(np.array(img_array), cv2.COLOR_BGR2HLS)\n",
    "    return img_hsv"
   ]
  },
  {
   "cell_type": "markdown",
   "id": "c0d20396",
   "metadata": {
    "papermill": {
     "duration": 0.010697,
     "end_time": "2025-01-16T19:18:10.954391",
     "exception": false,
     "start_time": "2025-01-16T19:18:10.943694",
     "status": "completed"
    },
    "tags": []
   },
   "source": [
    "train val"
   ]
  },
  {
   "cell_type": "code",
   "execution_count": 7,
   "id": "4400c3b1",
   "metadata": {
    "execution": {
     "iopub.execute_input": "2025-01-16T19:18:10.977300Z",
     "iopub.status.busy": "2025-01-16T19:18:10.977100Z",
     "iopub.status.idle": "2025-01-16T19:18:10.993358Z",
     "shell.execute_reply": "2025-01-16T19:18:10.992503Z"
    },
    "papermill": {
     "duration": 0.029337,
     "end_time": "2025-01-16T19:18:10.994634",
     "exception": false,
     "start_time": "2025-01-16T19:18:10.965297",
     "status": "completed"
    },
    "tags": []
   },
   "outputs": [
    {
     "name": "stdout",
     "output_type": "stream",
     "text": [
      "<class 'pandas.core.frame.DataFrame'>\n",
      "RangeIndex: 720 entries, 0 to 719\n",
      "Data columns (total 2 columns):\n",
      " #   Column  Non-Null Count  Dtype \n",
      "---  ------  --------------  ----- \n",
      " 0   image   720 non-null    object\n",
      " 1   label   720 non-null    int64 \n",
      "dtypes: int64(1), object(1)\n",
      "memory usage: 11.4+ KB\n"
     ]
    }
   ],
   "source": [
    "train.info()"
   ]
  },
  {
   "cell_type": "code",
   "execution_count": 8,
   "id": "cb6b850d",
   "metadata": {
    "execution": {
     "iopub.execute_input": "2025-01-16T19:18:11.017195Z",
     "iopub.status.busy": "2025-01-16T19:18:11.016953Z",
     "iopub.status.idle": "2025-01-16T19:18:19.079407Z",
     "shell.execute_reply": "2025-01-16T19:18:19.078470Z"
    },
    "papermill": {
     "duration": 8.075433,
     "end_time": "2025-01-16T19:18:19.081050",
     "exception": false,
     "start_time": "2025-01-16T19:18:11.005617",
     "status": "completed"
    },
    "tags": []
   },
   "outputs": [],
   "source": [
    "X=np.array([processImgHSV(imgpath) for imgpath in train['image']])\n",
    "y=np.array(train['label'])\n"
   ]
  },
  {
   "cell_type": "code",
   "execution_count": 9,
   "id": "f7b0a3dd",
   "metadata": {
    "execution": {
     "iopub.execute_input": "2025-01-16T19:18:19.107204Z",
     "iopub.status.busy": "2025-01-16T19:18:19.106906Z",
     "iopub.status.idle": "2025-01-16T19:18:19.259955Z",
     "shell.execute_reply": "2025-01-16T19:18:19.259249Z"
    },
    "papermill": {
     "duration": 0.168232,
     "end_time": "2025-01-16T19:18:19.261598",
     "exception": false,
     "start_time": "2025-01-16T19:18:19.093366",
     "status": "completed"
    },
    "tags": []
   },
   "outputs": [],
   "source": [
    "# Augmentation setup using Keras' ImageDataGenerator\n",
    "datagen = ImageDataGenerator(\n",
    "    rotation_range=40,\n",
    "    width_shift_range=0.2,\n",
    "    height_shift_range=0.2,\n",
    "    shear_range=0.2,\n",
    "    zoom_range=0.2,\n",
    "    horizontal_flip=True,\n",
    "    fill_mode='nearest'\n",
    ")\n",
    "\n",
    "# Now you can use datagen to augment the images\n",
    "datagen.fit(X)  # Fit the generator to your data\n",
    "\n",
    "# Example: Generate batches of augmented images for training\n",
    "augmented_images = datagen.flow(X, y, batch_size=32)"
   ]
  },
  {
   "cell_type": "code",
   "execution_count": 10,
   "id": "3e1f943f",
   "metadata": {
    "execution": {
     "iopub.execute_input": "2025-01-16T19:18:19.285354Z",
     "iopub.status.busy": "2025-01-16T19:18:19.285079Z",
     "iopub.status.idle": "2025-01-16T19:18:19.289645Z",
     "shell.execute_reply": "2025-01-16T19:18:19.288960Z"
    },
    "papermill": {
     "duration": 0.017491,
     "end_time": "2025-01-16T19:18:19.290827",
     "exception": false,
     "start_time": "2025-01-16T19:18:19.273336",
     "status": "completed"
    },
    "tags": []
   },
   "outputs": [
    {
     "data": {
      "text/plain": [
       "(720, 224, 224, 3)"
      ]
     },
     "execution_count": 10,
     "metadata": {},
     "output_type": "execute_result"
    }
   ],
   "source": [
    "X.shape"
   ]
  },
  {
   "cell_type": "code",
   "execution_count": 11,
   "id": "5a8e7d86",
   "metadata": {
    "execution": {
     "iopub.execute_input": "2025-01-16T19:18:19.313759Z",
     "iopub.status.busy": "2025-01-16T19:18:19.313556Z",
     "iopub.status.idle": "2025-01-16T19:18:19.317430Z",
     "shell.execute_reply": "2025-01-16T19:18:19.316803Z"
    },
    "papermill": {
     "duration": 0.016554,
     "end_time": "2025-01-16T19:18:19.318605",
     "exception": false,
     "start_time": "2025-01-16T19:18:19.302051",
     "status": "completed"
    },
    "tags": []
   },
   "outputs": [
    {
     "data": {
      "text/plain": [
       "(720,)"
      ]
     },
     "execution_count": 11,
     "metadata": {},
     "output_type": "execute_result"
    }
   ],
   "source": [
    "y.shape"
   ]
  },
  {
   "cell_type": "markdown",
   "id": "5649a0ec",
   "metadata": {
    "papermill": {
     "duration": 0.011026,
     "end_time": "2025-01-16T19:18:19.340790",
     "exception": false,
     "start_time": "2025-01-16T19:18:19.329764",
     "status": "completed"
    },
    "tags": []
   },
   "source": [
    "split data"
   ]
  },
  {
   "cell_type": "code",
   "execution_count": 12,
   "id": "4b453f2c",
   "metadata": {
    "execution": {
     "iopub.execute_input": "2025-01-16T19:18:19.363935Z",
     "iopub.status.busy": "2025-01-16T19:18:19.363721Z",
     "iopub.status.idle": "2025-01-16T19:18:19.492328Z",
     "shell.execute_reply": "2025-01-16T19:18:19.491589Z"
    },
    "papermill": {
     "duration": 0.142056,
     "end_time": "2025-01-16T19:18:19.493921",
     "exception": false,
     "start_time": "2025-01-16T19:18:19.351865",
     "status": "completed"
    },
    "tags": []
   },
   "outputs": [],
   "source": [
    "X_train, X_val, y_train, y_val = train_test_split(X, y, test_size=0.2, random_state=1)\n"
   ]
  },
  {
   "cell_type": "markdown",
   "id": "71a49a83",
   "metadata": {
    "papermill": {
     "duration": 0.011072,
     "end_time": "2025-01-16T19:18:19.516719",
     "exception": false,
     "start_time": "2025-01-16T19:18:19.505647",
     "status": "completed"
    },
    "tags": []
   },
   "source": [
    "Alex model"
   ]
  },
  {
   "cell_type": "code",
   "execution_count": 13,
   "id": "ba33ab22",
   "metadata": {
    "collapsed": true,
    "execution": {
     "iopub.execute_input": "2025-01-16T19:18:19.540057Z",
     "iopub.status.busy": "2025-01-16T19:18:19.539759Z",
     "iopub.status.idle": "2025-01-16T19:18:19.546854Z",
     "shell.execute_reply": "2025-01-16T19:18:19.546224Z"
    },
    "jupyter": {
     "outputs_hidden": true
    },
    "papermill": {
     "duration": 0.020308,
     "end_time": "2025-01-16T19:18:19.548105",
     "exception": false,
     "start_time": "2025-01-16T19:18:19.527797",
     "status": "completed"
    },
    "tags": []
   },
   "outputs": [],
   "source": [
    "\n",
    "# AlexNet model\n",
    "class AlexNet(Sequential):\n",
    "    def __init__(self, input_shape, num_classes):\n",
    "        super().__init__()\n",
    "\n",
    "        self.add(Conv2D(96, kernel_size=(11,11), strides= 4,\n",
    "                        padding= 'valid', activation= 'relu',\n",
    "                        input_shape= input_shape,\n",
    "                        kernel_initializer= 'he_normal'))\n",
    "        self.add(MaxPooling2D(pool_size=(3,3), strides= (2,2),\n",
    "                              padding= 'valid', data_format= None))\n",
    "\n",
    "        self.add(Conv2D(256, kernel_size=(5,5), strides= 1,\n",
    "                        padding= 'same', activation= 'relu',\n",
    "                        kernel_initializer= 'he_normal'))\n",
    "        self.add(MaxPooling2D(pool_size=(3,3), strides= (2,2),\n",
    "                              padding= 'valid', data_format= None)) \n",
    "        \n",
    "        self.add(Conv2D(384, kernel_size=(3,3), strides= 1,\n",
    "                        padding= 'same', activation= 'relu',\n",
    "                        kernel_initializer= 'he_normal'))\n",
    "\n",
    "        self.add(Conv2D(384, kernel_size=(3,3), strides= 1,\n",
    "                        padding= 'same', activation= 'relu',\n",
    "                        kernel_initializer= 'he_normal'))\n",
    "\n",
    "        self.add(Conv2D(256, kernel_size=(3,3), strides= 1,\n",
    "                        padding= 'same', activation= 'relu',\n",
    "                        kernel_initializer= 'he_normal'))\n",
    "\n",
    "        self.add(MaxPooling2D(pool_size=(3,3), strides= (2,2),\n",
    "                              padding= 'valid', data_format= None))\n",
    "\n",
    "        self.add(Flatten())\n",
    "        self.add(Dense(4096, activation= 'relu'))\n",
    "        self.add(Dense(4096, activation= 'relu'))\n",
    "        self.add(Dense(1000, activation= 'relu'))\n",
    "        self.add(Dense(1, activation= 'sigmoid'))\n",
    "        \n",
    "        self.compile(optimizer= tf.keras.optimizers.Adam(0.001),\n",
    "                    loss='binary_crossentropy',\n",
    "                    metrics=['accuracy'])\n",
    "\n"
   ]
  },
  {
   "cell_type": "code",
   "execution_count": 14,
   "id": "9aedf03b",
   "metadata": {
    "collapsed": true,
    "execution": {
     "iopub.execute_input": "2025-01-16T19:18:19.571724Z",
     "iopub.status.busy": "2025-01-16T19:18:19.571514Z",
     "iopub.status.idle": "2025-01-16T19:18:22.354378Z",
     "shell.execute_reply": "2025-01-16T19:18:22.353176Z"
    },
    "jupyter": {
     "outputs_hidden": true
    },
    "papermill": {
     "duration": 2.795875,
     "end_time": "2025-01-16T19:18:22.355629",
     "exception": true,
     "start_time": "2025-01-16T19:18:19.559754",
     "status": "failed"
    },
    "tags": []
   },
   "outputs": [
    {
     "name": "stderr",
     "output_type": "stream",
     "text": [
      "/usr/local/lib/python3.10/dist-packages/keras/src/layers/convolutional/base_conv.py:107: UserWarning: Do not pass an `input_shape`/`input_dim` argument to a layer. When using Sequential models, prefer using an `Input(shape)` object as the first layer in the model instead.\n",
      "  super().__init__(activity_regularizer=activity_regularizer, **kwargs)\n"
     ]
    },
    {
     "name": "stdout",
     "output_type": "stream",
     "text": [
      "Epoch 1/30\n"
     ]
    },
    {
     "ename": "ValueError",
     "evalue": "Exception encountered when calling AlexNet.call().\n\n\u001b[1mInput 0 of layer \"dense\" is incompatible with the layer: expected axis -1 of input shape to have value 9216, but received input with shape (32, 6400)\u001b[0m\n\nArguments received by AlexNet.call():\n  • inputs=tf.Tensor(shape=(32, 224, 224, 3), dtype=float32)\n  • training=True\n  • mask=None",
     "output_type": "error",
     "traceback": [
      "\u001b[0;31m---------------------------------------------------------------------------\u001b[0m",
      "\u001b[0;31mValueError\u001b[0m                                Traceback (most recent call last)",
      "\u001b[0;32m<ipython-input-14-9a32ac044242>\u001b[0m in \u001b[0;36m<cell line: 11>\u001b[0;34m()\u001b[0m\n\u001b[1;32m      9\u001b[0m \u001b[0;31m#class_weights = {0: weight_for_class_0, 1: weight_for_class_1}\u001b[0m\u001b[0;34m\u001b[0m\u001b[0;34m\u001b[0m\u001b[0m\n\u001b[1;32m     10\u001b[0m \u001b[0;34m\u001b[0m\u001b[0m\n\u001b[0;32m---> 11\u001b[0;31m history = model.fit(\n\u001b[0m\u001b[1;32m     12\u001b[0m     \u001b[0mX_train\u001b[0m\u001b[0;34m,\u001b[0m \u001b[0my_train\u001b[0m\u001b[0;34m,\u001b[0m\u001b[0;34m\u001b[0m\u001b[0;34m\u001b[0m\u001b[0m\n\u001b[1;32m     13\u001b[0m     \u001b[0mbatch_size\u001b[0m\u001b[0;34m=\u001b[0m\u001b[0;36m32\u001b[0m\u001b[0;34m,\u001b[0m\u001b[0;34m\u001b[0m\u001b[0;34m\u001b[0m\u001b[0m\n",
      "\u001b[0;32m/usr/local/lib/python3.10/dist-packages/keras/src/utils/traceback_utils.py\u001b[0m in \u001b[0;36merror_handler\u001b[0;34m(*args, **kwargs)\u001b[0m\n\u001b[1;32m    120\u001b[0m             \u001b[0;31m# To get the full stack trace, call:\u001b[0m\u001b[0;34m\u001b[0m\u001b[0;34m\u001b[0m\u001b[0m\n\u001b[1;32m    121\u001b[0m             \u001b[0;31m# `keras.config.disable_traceback_filtering()`\u001b[0m\u001b[0;34m\u001b[0m\u001b[0;34m\u001b[0m\u001b[0m\n\u001b[0;32m--> 122\u001b[0;31m             \u001b[0;32mraise\u001b[0m \u001b[0me\u001b[0m\u001b[0;34m.\u001b[0m\u001b[0mwith_traceback\u001b[0m\u001b[0;34m(\u001b[0m\u001b[0mfiltered_tb\u001b[0m\u001b[0;34m)\u001b[0m \u001b[0;32mfrom\u001b[0m \u001b[0;32mNone\u001b[0m\u001b[0;34m\u001b[0m\u001b[0;34m\u001b[0m\u001b[0m\n\u001b[0m\u001b[1;32m    123\u001b[0m         \u001b[0;32mfinally\u001b[0m\u001b[0;34m:\u001b[0m\u001b[0;34m\u001b[0m\u001b[0;34m\u001b[0m\u001b[0m\n\u001b[1;32m    124\u001b[0m             \u001b[0;32mdel\u001b[0m \u001b[0mfiltered_tb\u001b[0m\u001b[0;34m\u001b[0m\u001b[0;34m\u001b[0m\u001b[0m\n",
      "\u001b[0;32m/usr/local/lib/python3.10/dist-packages/keras/src/layers/input_spec.py\u001b[0m in \u001b[0;36massert_input_compatibility\u001b[0;34m(input_spec, inputs, layer_name)\u001b[0m\n\u001b[1;32m    225\u001b[0m                     \u001b[0;32mNone\u001b[0m\u001b[0;34m,\u001b[0m\u001b[0;34m\u001b[0m\u001b[0;34m\u001b[0m\u001b[0m\n\u001b[1;32m    226\u001b[0m                 }:\n\u001b[0;32m--> 227\u001b[0;31m                     raise ValueError(\n\u001b[0m\u001b[1;32m    228\u001b[0m                         \u001b[0;34mf'Input {input_index} of layer \"{layer_name}\" is '\u001b[0m\u001b[0;34m\u001b[0m\u001b[0;34m\u001b[0m\u001b[0m\n\u001b[1;32m    229\u001b[0m                         \u001b[0;34mf\"incompatible with the layer: expected axis {axis} \"\u001b[0m\u001b[0;34m\u001b[0m\u001b[0;34m\u001b[0m\u001b[0m\n",
      "\u001b[0;31mValueError\u001b[0m: Exception encountered when calling AlexNet.call().\n\n\u001b[1mInput 0 of layer \"dense\" is incompatible with the layer: expected axis -1 of input shape to have value 9216, but received input with shape (32, 6400)\u001b[0m\n\nArguments received by AlexNet.call():\n  • inputs=tf.Tensor(shape=(32, 224, 224, 3), dtype=float32)\n  • training=True\n  • mask=None"
     ]
    }
   ],
   "source": [
    "num_classes = 2\n",
    "model = AlexNet((227, 227, 3), num_classes)\n",
    "callbacks_list = [\n",
    "    EarlyStopping(monitor='loss', patience=5, restore_best_weights=True),\n",
    "    ModelCheckpoint(filepath='best_AlexNetHSL_model.keras', monitor='loss', save_best_only=True, mode='min')\n",
    "]\n",
    "\n",
    "#balance class\n",
    "#class_weights = {0: weight_for_class_0, 1: weight_for_class_1}\n",
    "\n",
    "history = model.fit(\n",
    "    X_train, y_train,\n",
    "    batch_size=32,\n",
    "    epochs=30,\n",
    "    validation_data=(X_val, y_val),\n",
    "    callbacks=callbacks_list\n",
    ")\n"
   ]
  },
  {
   "cell_type": "code",
   "execution_count": null,
   "id": "0717479c",
   "metadata": {
    "collapsed": true,
    "execution": {
     "iopub.execute_input": "2025-01-16T17:18:31.050379Z",
     "iopub.status.busy": "2025-01-16T17:18:31.050059Z",
     "iopub.status.idle": "2025-01-16T17:18:31.399325Z",
     "shell.execute_reply": "2025-01-16T17:18:31.398506Z",
     "shell.execute_reply.started": "2025-01-16T17:18:31.050353Z"
    },
    "jupyter": {
     "outputs_hidden": true
    },
    "papermill": {
     "duration": null,
     "end_time": null,
     "exception": null,
     "start_time": null,
     "status": "pending"
    },
    "tags": []
   },
   "outputs": [],
   "source": [
    "from sklearn.metrics import roc_auc_score\n",
    "\n",
    "y_pred = model.predict(X_val)\n",
    "print(\"Validation AUC-ROC:\", roc_auc_score(y_val, y_pred))"
   ]
  },
  {
   "cell_type": "code",
   "execution_count": null,
   "id": "0a0b4e7a",
   "metadata": {
    "collapsed": true,
    "jupyter": {
     "outputs_hidden": true
    },
    "papermill": {
     "duration": null,
     "end_time": null,
     "exception": null,
     "start_time": null,
     "status": "pending"
    },
    "tags": []
   },
   "outputs": [],
   "source": []
  },
  {
   "cell_type": "markdown",
   "id": "206eab8c",
   "metadata": {
    "papermill": {
     "duration": null,
     "end_time": null,
     "exception": null,
     "start_time": null,
     "status": "pending"
    },
    "tags": []
   },
   "source": [
    "retrain with orignal data without augmentation "
   ]
  },
  {
   "cell_type": "code",
   "execution_count": null,
   "id": "9b9abdac",
   "metadata": {
    "execution": {
     "iopub.execute_input": "2025-01-16T17:26:41.308825Z",
     "iopub.status.busy": "2025-01-16T17:26:41.308457Z",
     "iopub.status.idle": "2025-01-16T17:26:41.313378Z",
     "shell.execute_reply": "2025-01-16T17:26:41.312473Z",
     "shell.execute_reply.started": "2025-01-16T17:26:41.308797Z"
    },
    "papermill": {
     "duration": null,
     "end_time": null,
     "exception": null,
     "start_time": null,
     "status": "pending"
    },
    "tags": []
   },
   "outputs": [],
   "source": [
    "train_datagen = ImageDataGenerator(\n",
    "    rotation_range=40,\n",
    "    width_shift_range=0.2,\n",
    "    height_shift_range=0.2,\n",
    "    shear_range=0.2,\n",
    "    zoom_range=0.2,\n",
    "    horizontal_flip=True,\n",
    "    fill_mode='nearest'\n",
    ")\n",
    "\n",
    "# Create an iterator for the training data\n",
    "train_generator = train_datagen.flow(X_train, y_train, batch_size=32)\n"
   ]
  },
  {
   "cell_type": "code",
   "execution_count": null,
   "id": "b8b30607",
   "metadata": {
    "execution": {
     "iopub.execute_input": "2025-01-16T17:26:43.778761Z",
     "iopub.status.busy": "2025-01-16T17:26:43.778418Z",
     "iopub.status.idle": "2025-01-16T17:26:43.782747Z",
     "shell.execute_reply": "2025-01-16T17:26:43.781801Z",
     "shell.execute_reply.started": "2025-01-16T17:26:43.778731Z"
    },
    "papermill": {
     "duration": null,
     "end_time": null,
     "exception": null,
     "start_time": null,
     "status": "pending"
    },
    "tags": []
   },
   "outputs": [],
   "source": [
    "val_datagen = ImageDataGenerator()\n",
    "\n",
    "# Create an iterator for the validation data\n",
    "val_generator = val_datagen.flow(X_val, y_val, batch_size=32)\n"
   ]
  },
  {
   "cell_type": "code",
   "execution_count": null,
   "id": "c690251e",
   "metadata": {
    "collapsed": true,
    "execution": {
     "iopub.execute_input": "2025-01-16T17:17:46.465659Z",
     "iopub.status.busy": "2025-01-16T17:17:46.465313Z",
     "iopub.status.idle": "2025-01-16T17:18:19.130452Z",
     "shell.execute_reply": "2025-01-16T17:18:19.129738Z",
     "shell.execute_reply.started": "2025-01-16T17:17:46.465632Z"
    },
    "jupyter": {
     "outputs_hidden": true
    },
    "papermill": {
     "duration": null,
     "end_time": null,
     "exception": null,
     "start_time": null,
     "status": "pending"
    },
    "tags": []
   },
   "outputs": [],
   "source": [
    "#using augmented data\n",
    "modelvgg.fit(\n",
    "    train_generator,\n",
    "    validation_data=val_generator,\n",
    "    epochs=10,\n",
    "    steps_per_epoch=len(X_train) // 32,\n",
    "    validation_steps=len(X_val) // 32\n",
    ")"
   ]
  },
  {
   "cell_type": "markdown",
   "id": "fcc73850",
   "metadata": {
    "papermill": {
     "duration": null,
     "end_time": null,
     "exception": null,
     "start_time": null,
     "status": "pending"
    },
    "tags": []
   },
   "source": [
    "VGG"
   ]
  },
  {
   "cell_type": "code",
   "execution_count": null,
   "id": "0f6b17f8",
   "metadata": {
    "execution": {
     "iopub.execute_input": "2025-01-16T17:24:43.419035Z",
     "iopub.status.busy": "2025-01-16T17:24:43.418752Z",
     "iopub.status.idle": "2025-01-16T17:24:43.675973Z",
     "shell.execute_reply": "2025-01-16T17:24:43.675305Z",
     "shell.execute_reply.started": "2025-01-16T17:24:43.419011Z"
    },
    "papermill": {
     "duration": null,
     "end_time": null,
     "exception": null,
     "start_time": null,
     "status": "pending"
    },
    "tags": []
   },
   "outputs": [],
   "source": [
    "from tensorflow.keras.applications import VGG16\n",
    "from tensorflow.keras.layers import Dense, GlobalAveragePooling2D\n",
    "from tensorflow.keras.models import Model\n",
    "\n",
    "base_model = VGG16(weights='imagenet', include_top=False, input_shape=(224, 224, 3))\n",
    "base_model.trainable = False  # Freeze the base model\n",
    "\n",
    "x = base_model.output\n",
    "x = GlobalAveragePooling2D()(x)\n",
    "x = Dense(128, activation='relu')(x)\n",
    "predictions = Dense(1, activation='sigmoid')(x)\n",
    "\n",
    "modelvgg = Model(inputs=base_model.input, outputs=predictions)\n",
    "modelvgg.compile(optimizer='adam', loss='binary_crossentropy', metrics=['accuracy'])"
   ]
  },
  {
   "cell_type": "code",
   "execution_count": null,
   "id": "48ea49bd",
   "metadata": {
    "execution": {
     "iopub.execute_input": "2025-01-16T17:24:45.723818Z",
     "iopub.status.busy": "2025-01-16T17:24:45.723534Z",
     "iopub.status.idle": "2025-01-16T17:25:55.165148Z",
     "shell.execute_reply": "2025-01-16T17:25:55.164205Z",
     "shell.execute_reply.started": "2025-01-16T17:24:45.723797Z"
    },
    "papermill": {
     "duration": null,
     "end_time": null,
     "exception": null,
     "start_time": null,
     "status": "pending"
    },
    "tags": []
   },
   "outputs": [],
   "source": [
    "callbacks_list = [\n",
    "    EarlyStopping(monitor='loss', patience=5, restore_best_weights=True),\n",
    "    ModelCheckpoint(filepath='VGGHSV.keras', monitor='loss', save_best_only=True, mode='min')\n",
    "]\n",
    "\n",
    "#balance class\n",
    "#class_weights = {0: weight_for_class_0, 1: weight_for_class_1}\n",
    "\n",
    "history = modelvgg.fit(\n",
    "    X_train, y_train,\n",
    "    batch_size=32,\n",
    "    epochs=30,\n",
    "    validation_data=(X_val, y_val),\n",
    "    callbacks=callbacks_list\n",
    ")\n"
   ]
  },
  {
   "cell_type": "code",
   "execution_count": null,
   "id": "6e16c3af",
   "metadata": {
    "execution": {
     "iopub.execute_input": "2025-01-16T17:26:28.469753Z",
     "iopub.status.busy": "2025-01-16T17:26:28.469465Z",
     "iopub.status.idle": "2025-01-16T17:26:29.905405Z",
     "shell.execute_reply": "2025-01-16T17:26:29.904519Z",
     "shell.execute_reply.started": "2025-01-16T17:26:28.469731Z"
    },
    "papermill": {
     "duration": null,
     "end_time": null,
     "exception": null,
     "start_time": null,
     "status": "pending"
    },
    "tags": []
   },
   "outputs": [],
   "source": [
    "from sklearn.metrics import roc_auc_score\n",
    "\n",
    "y_pred = modelvgg.predict(X_val)\n",
    "print(\"Validation AUC-ROC:\", roc_auc_score(y_val, y_pred))"
   ]
  },
  {
   "cell_type": "code",
   "execution_count": null,
   "id": "d5bb18ca",
   "metadata": {
    "execution": {
     "iopub.execute_input": "2025-01-16T17:28:25.510808Z",
     "iopub.status.busy": "2025-01-16T17:28:25.510483Z",
     "iopub.status.idle": "2025-01-16T17:29:27.929030Z",
     "shell.execute_reply": "2025-01-16T17:29:27.928330Z",
     "shell.execute_reply.started": "2025-01-16T17:28:25.510778Z"
    },
    "papermill": {
     "duration": null,
     "end_time": null,
     "exception": null,
     "start_time": null,
     "status": "pending"
    },
    "tags": []
   },
   "outputs": [],
   "source": [
    "#using augmented data\n",
    "modelvgg.fit(\n",
    "    train_generator,\n",
    "    validation_data=val_generator,\n",
    "    epochs=10,\n",
    ")"
   ]
  },
  {
   "cell_type": "code",
   "execution_count": null,
   "id": "8d0cdc66",
   "metadata": {
    "execution": {
     "iopub.execute_input": "2025-01-16T17:29:37.653200Z",
     "iopub.status.busy": "2025-01-16T17:29:37.652800Z",
     "iopub.status.idle": "2025-01-16T17:29:38.236617Z",
     "shell.execute_reply": "2025-01-16T17:29:38.235828Z",
     "shell.execute_reply.started": "2025-01-16T17:29:37.653169Z"
    },
    "papermill": {
     "duration": null,
     "end_time": null,
     "exception": null,
     "start_time": null,
     "status": "pending"
    },
    "tags": []
   },
   "outputs": [],
   "source": [
    "from sklearn.metrics import roc_auc_score\n",
    "\n",
    "y_pred = modelvgg.predict(X_val)\n",
    "print(\"Validation AUC-ROC:\", roc_auc_score(y_val, y_pred))"
   ]
  },
  {
   "cell_type": "markdown",
   "id": "5fa19b2b",
   "metadata": {
    "papermill": {
     "duration": null,
     "end_time": null,
     "exception": null,
     "start_time": null,
     "status": "pending"
    },
    "tags": []
   },
   "source": [
    "Try read data hsl"
   ]
  },
  {
   "cell_type": "code",
   "execution_count": null,
   "id": "0cb726c4",
   "metadata": {
    "execution": {
     "iopub.execute_input": "2025-01-16T17:38:52.751608Z",
     "iopub.status.busy": "2025-01-16T17:38:52.751302Z",
     "iopub.status.idle": "2025-01-16T17:38:57.279785Z",
     "shell.execute_reply": "2025-01-16T17:38:57.279008Z",
     "shell.execute_reply.started": "2025-01-16T17:38:52.751585Z"
    },
    "papermill": {
     "duration": null,
     "end_time": null,
     "exception": null,
     "start_time": null,
     "status": "pending"
    },
    "tags": []
   },
   "outputs": [],
   "source": [
    "X2=np.array([processImgHLS(imgpath) for imgpath in train['image']])\n",
    "#y=np.array(train['label'])\n",
    "X_train, X_val, y_train, y_val = train_test_split(X2, y, test_size=0.2, random_state=1)\n"
   ]
  },
  {
   "cell_type": "code",
   "execution_count": null,
   "id": "fcdaedb4",
   "metadata": {
    "execution": {
     "iopub.execute_input": "2025-01-16T17:38:59.968640Z",
     "iopub.status.busy": "2025-01-16T17:38:59.968345Z",
     "iopub.status.idle": "2025-01-16T17:39:00.234808Z",
     "shell.execute_reply": "2025-01-16T17:39:00.233768Z",
     "shell.execute_reply.started": "2025-01-16T17:38:59.968618Z"
    },
    "papermill": {
     "duration": null,
     "end_time": null,
     "exception": null,
     "start_time": null,
     "status": "pending"
    },
    "tags": []
   },
   "outputs": [],
   "source": [
    "from tensorflow.keras.applications import VGG16\n",
    "from tensorflow.keras.layers import Dense, GlobalAveragePooling2D\n",
    "from tensorflow.keras.models import Model\n",
    "\n",
    "base_model = VGG16(weights='imagenet', include_top=False, input_shape=(224, 224, 3))\n",
    "base_model.trainable = False  # Freeze the base model\n",
    "\n",
    "x = base_model.output\n",
    "x = GlobalAveragePooling2D()(x)\n",
    "x = Dense(128, activation='relu')(x)\n",
    "predictions = Dense(1, activation='sigmoid')(x)\n",
    "\n",
    "modelvggHSL = Model(inputs=base_model.input, outputs=predictions)\n",
    "modelvggHSL.compile(optimizer='adam', loss='binary_crossentropy', metrics=['accuracy'])"
   ]
  },
  {
   "cell_type": "code",
   "execution_count": null,
   "id": "05f534f1",
   "metadata": {
    "execution": {
     "iopub.execute_input": "2025-01-16T17:39:02.949581Z",
     "iopub.status.busy": "2025-01-16T17:39:02.949260Z",
     "iopub.status.idle": "2025-01-16T17:40:01.362357Z",
     "shell.execute_reply": "2025-01-16T17:40:01.361625Z",
     "shell.execute_reply.started": "2025-01-16T17:39:02.949554Z"
    },
    "papermill": {
     "duration": null,
     "end_time": null,
     "exception": null,
     "start_time": null,
     "status": "pending"
    },
    "tags": []
   },
   "outputs": [],
   "source": [
    "callbacks_list = [\n",
    "    EarlyStopping(monitor='loss', patience=5, restore_best_weights=True),\n",
    "    ModelCheckpoint(filepath='VGGHSV.keras', monitor='loss', save_best_only=True, mode='min')\n",
    "]\n",
    "\n",
    "#balance class\n",
    "#class_weights = {0: weight_for_class_0, 1: weight_for_class_1}\n",
    "\n",
    "history = modelvggHSL.fit(\n",
    "    X_train, y_train,\n",
    "    batch_size=32,\n",
    "    epochs=30,\n",
    "    validation_data=(X_val, y_val),\n",
    "    callbacks=callbacks_list\n",
    ")\n"
   ]
  },
  {
   "cell_type": "code",
   "execution_count": null,
   "id": "d1dcd936",
   "metadata": {
    "execution": {
     "iopub.execute_input": "2025-01-16T17:40:10.932069Z",
     "iopub.status.busy": "2025-01-16T17:40:10.931759Z",
     "iopub.status.idle": "2025-01-16T17:40:12.169362Z",
     "shell.execute_reply": "2025-01-16T17:40:12.168514Z",
     "shell.execute_reply.started": "2025-01-16T17:40:10.932046Z"
    },
    "papermill": {
     "duration": null,
     "end_time": null,
     "exception": null,
     "start_time": null,
     "status": "pending"
    },
    "tags": []
   },
   "outputs": [],
   "source": [
    "from sklearn.metrics import roc_auc_score\n",
    "\n",
    "y_pred = modelvggHSL.predict(X_val)\n",
    "print(\"Validation AUC-ROC:\", roc_auc_score(y_val, y_pred))"
   ]
  },
  {
   "cell_type": "markdown",
   "id": "76c7cea7",
   "metadata": {
    "papermill": {
     "duration": null,
     "end_time": null,
     "exception": null,
     "start_time": null,
     "status": "pending"
    },
    "tags": []
   },
   "source": [
    "Try retrain with augmented data"
   ]
  },
  {
   "cell_type": "code",
   "execution_count": null,
   "id": "ae269c9d",
   "metadata": {
    "papermill": {
     "duration": null,
     "end_time": null,
     "exception": null,
     "start_time": null,
     "status": "pending"
    },
    "tags": []
   },
   "outputs": [],
   "source": []
  },
  {
   "cell_type": "code",
   "execution_count": null,
   "id": "1e580278",
   "metadata": {
    "execution": {
     "iopub.execute_input": "2025-01-16T17:40:22.171781Z",
     "iopub.status.busy": "2025-01-16T17:40:22.171495Z",
     "iopub.status.idle": "2025-01-16T17:40:22.176044Z",
     "shell.execute_reply": "2025-01-16T17:40:22.175026Z",
     "shell.execute_reply.started": "2025-01-16T17:40:22.171759Z"
    },
    "papermill": {
     "duration": null,
     "end_time": null,
     "exception": null,
     "start_time": null,
     "status": "pending"
    },
    "tags": []
   },
   "outputs": [],
   "source": [
    "train_datagen = ImageDataGenerator(\n",
    "    rotation_range=40,\n",
    "    width_shift_range=0.2,\n",
    "    height_shift_range=0.2,\n",
    "    shear_range=0.2,\n",
    "    zoom_range=0.2,\n",
    "    horizontal_flip=True,\n",
    "    fill_mode='nearest'\n",
    ")\n",
    "\n",
    "# Create an iterator for the training data\n",
    "train_generator = train_datagen.flow(X_train, y_train, batch_size=32)\n"
   ]
  },
  {
   "cell_type": "code",
   "execution_count": null,
   "id": "10b4e6f5",
   "metadata": {
    "execution": {
     "iopub.execute_input": "2025-01-16T17:40:25.514732Z",
     "iopub.status.busy": "2025-01-16T17:40:25.514440Z",
     "iopub.status.idle": "2025-01-16T17:40:25.518533Z",
     "shell.execute_reply": "2025-01-16T17:40:25.517767Z",
     "shell.execute_reply.started": "2025-01-16T17:40:25.514709Z"
    },
    "papermill": {
     "duration": null,
     "end_time": null,
     "exception": null,
     "start_time": null,
     "status": "pending"
    },
    "tags": []
   },
   "outputs": [],
   "source": [
    "val_datagen = ImageDataGenerator()\n",
    "\n",
    "# Create an iterator for the validation data\n",
    "val_generator = val_datagen.flow(X_val, y_val, batch_size=32)\n"
   ]
  },
  {
   "cell_type": "code",
   "execution_count": null,
   "id": "7fb96b70",
   "metadata": {
    "execution": {
     "iopub.execute_input": "2025-01-16T17:43:31.162813Z",
     "iopub.status.busy": "2025-01-16T17:43:31.162487Z",
     "iopub.status.idle": "2025-01-16T17:44:33.233711Z",
     "shell.execute_reply": "2025-01-16T17:44:33.233001Z",
     "shell.execute_reply.started": "2025-01-16T17:43:31.162784Z"
    },
    "papermill": {
     "duration": null,
     "end_time": null,
     "exception": null,
     "start_time": null,
     "status": "pending"
    },
    "tags": []
   },
   "outputs": [],
   "source": [
    "callbacks_list = [\n",
    "    EarlyStopping(monitor='loss', patience=5, restore_best_weights=True),\n",
    "    ModelCheckpoint(filepath='VGGHSL.keras', monitor='loss', save_best_only=True, mode='min')\n",
    "]\n",
    "modelvggHSL.fit(\n",
    "\n",
    "    train_generator,\n",
    "    validation_data=val_generator,\n",
    "    epochs=10,\n",
    ")"
   ]
  },
  {
   "cell_type": "code",
   "execution_count": null,
   "id": "3479dc51",
   "metadata": {
    "execution": {
     "iopub.execute_input": "2025-01-16T17:44:36.538395Z",
     "iopub.status.busy": "2025-01-16T17:44:36.538051Z",
     "iopub.status.idle": "2025-01-16T17:44:37.102293Z",
     "shell.execute_reply": "2025-01-16T17:44:37.101602Z",
     "shell.execute_reply.started": "2025-01-16T17:44:36.538364Z"
    },
    "papermill": {
     "duration": null,
     "end_time": null,
     "exception": null,
     "start_time": null,
     "status": "pending"
    },
    "tags": []
   },
   "outputs": [],
   "source": [
    "from sklearn.metrics import roc_auc_score\n",
    "\n",
    "y_pred = modelvggHSL.predict(X_val)\n",
    "print(\"Validation AUC-ROC:\", roc_auc_score(y_val, y_pred))"
   ]
  },
  {
   "cell_type": "markdown",
   "id": "5aa582b7",
   "metadata": {
    "papermill": {
     "duration": null,
     "end_time": null,
     "exception": null,
     "start_time": null,
     "status": "pending"
    },
    "tags": []
   },
   "source": [
    "# data augmentations "
   ]
  },
  {
   "cell_type": "code",
   "execution_count": null,
   "id": "c24fae17",
   "metadata": {
    "execution": {
     "iopub.execute_input": "2025-01-16T19:09:00.317156Z",
     "iopub.status.busy": "2025-01-16T19:09:00.316828Z",
     "iopub.status.idle": "2025-01-16T19:09:05.431121Z",
     "shell.execute_reply": "2025-01-16T19:09:05.429995Z",
     "shell.execute_reply.started": "2025-01-16T19:09:00.317125Z"
    },
    "papermill": {
     "duration": null,
     "end_time": null,
     "exception": null,
     "start_time": null,
     "status": "pending"
    },
    "tags": []
   },
   "outputs": [],
   "source": [
    "X2=np.array([processImgHLS(imgpath) for imgpath in train['image']])\n",
    "#y=np.array(train['label'])\n",
    "X_train, X_val, y_train, y_val = train_test_split(X2, y, test_size=0.2, random_state=1)\n"
   ]
  },
  {
   "cell_type": "code",
   "execution_count": null,
   "id": "2011a23c",
   "metadata": {
    "execution": {
     "iopub.execute_input": "2025-01-16T19:09:47.458679Z",
     "iopub.status.busy": "2025-01-16T19:09:47.458312Z",
     "iopub.status.idle": "2025-01-16T19:09:47.463287Z",
     "shell.execute_reply": "2025-01-16T19:09:47.462195Z",
     "shell.execute_reply.started": "2025-01-16T19:09:47.458655Z"
    },
    "papermill": {
     "duration": null,
     "end_time": null,
     "exception": null,
     "start_time": null,
     "status": "pending"
    },
    "tags": []
   },
   "outputs": [],
   "source": [
    "train_datagen = ImageDataGenerator(\n",
    "    rotation_range=40,\n",
    "    width_shift_range=0.2,\n",
    "    height_shift_range=0.2,\n",
    "    shear_range=0.2,\n",
    "    zoom_range=0.2,\n",
    "    horizontal_flip=True,\n",
    "    fill_mode='nearest'\n",
    ")\n",
    "\n",
    "# Create an iterator for the training data\n",
    "train_generator = train_datagen.flow(X_train, y_train, batch_size=32)\n"
   ]
  },
  {
   "cell_type": "code",
   "execution_count": null,
   "id": "c96d8b2c",
   "metadata": {
    "execution": {
     "iopub.execute_input": "2025-01-16T19:09:49.914138Z",
     "iopub.status.busy": "2025-01-16T19:09:49.913808Z",
     "iopub.status.idle": "2025-01-16T19:09:49.917990Z",
     "shell.execute_reply": "2025-01-16T19:09:49.917194Z",
     "shell.execute_reply.started": "2025-01-16T19:09:49.914113Z"
    },
    "papermill": {
     "duration": null,
     "end_time": null,
     "exception": null,
     "start_time": null,
     "status": "pending"
    },
    "tags": []
   },
   "outputs": [],
   "source": [
    "val_datagen = ImageDataGenerator()\n",
    "\n",
    "# Create an iterator for the validation data\n",
    "val_generator = val_datagen.flow(X_val, y_val, batch_size=32)\n"
   ]
  },
  {
   "cell_type": "code",
   "execution_count": null,
   "id": "71b20706",
   "metadata": {
    "execution": {
     "iopub.execute_input": "2025-01-16T19:10:46.605588Z",
     "iopub.status.busy": "2025-01-16T19:10:46.605211Z",
     "iopub.status.idle": "2025-01-16T19:10:46.867320Z",
     "shell.execute_reply": "2025-01-16T19:10:46.866634Z",
     "shell.execute_reply.started": "2025-01-16T19:10:46.605559Z"
    },
    "papermill": {
     "duration": null,
     "end_time": null,
     "exception": null,
     "start_time": null,
     "status": "pending"
    },
    "tags": []
   },
   "outputs": [],
   "source": [
    "from tensorflow.keras.applications import VGG16\n",
    "from tensorflow.keras.layers import Dense, GlobalAveragePooling2D\n",
    "from tensorflow.keras.models import Model\n",
    "\n",
    "base_model = VGG16(weights='imagenet', include_top=False, input_shape=(224, 224, 3))\n",
    "base_model.trainable = False  # Freeze the base model\n",
    "\n",
    "x = base_model.output\n",
    "x = GlobalAveragePooling2D()(x)\n",
    "x = Dense(128, activation='relu')(x)\n",
    "predictions = Dense(1, activation='sigmoid')(x)\n",
    "\n",
    "modelvggHSLA = Model(inputs=base_model.input, outputs=predictions)\n",
    "modelvggHSLA.compile(optimizer='adam', loss='binary_crossentropy', metrics=['accuracy'])"
   ]
  },
  {
   "cell_type": "code",
   "execution_count": null,
   "id": "bfba66da",
   "metadata": {
    "execution": {
     "iopub.execute_input": "2025-01-16T19:10:49.245349Z",
     "iopub.status.busy": "2025-01-16T19:10:49.244980Z",
     "iopub.status.idle": "2025-01-16T19:13:26.983551Z",
     "shell.execute_reply": "2025-01-16T19:13:26.982758Z",
     "shell.execute_reply.started": "2025-01-16T19:10:49.245317Z"
    },
    "papermill": {
     "duration": null,
     "end_time": null,
     "exception": null,
     "start_time": null,
     "status": "pending"
    },
    "tags": []
   },
   "outputs": [],
   "source": [
    "steps_per_epoch = len(X_train) // 32  # 720 images, batch size 32 -> 22 steps per epoch\n",
    "\n",
    "callbacks_list = [\n",
    "    EarlyStopping(monitor='loss', patience=5, restore_best_weights=True),\n",
    "    ModelCheckpoint(filepath='VGGHSLA.keras', monitor='loss', save_best_only=True, mode='min')\n",
    "]\n",
    "modelvggHSLA.fit(\n",
    "    train_generator,  # Training data generator\n",
    "    epochs=50,        # Number of epochs to train\n",
    "    steps_per_epoch=steps_per_epoch,  # Number of steps per epoch\n",
    "    validation_data=val_generator,  # Validation data generator\n",
    "    validation_steps=len(X_val) // 32  # Steps per epoch for validation (adjust accordingly)\n",
    ")"
   ]
  },
  {
   "cell_type": "code",
   "execution_count": null,
   "id": "a80ac0f1",
   "metadata": {
    "papermill": {
     "duration": null,
     "end_time": null,
     "exception": null,
     "start_time": null,
     "status": "pending"
    },
    "tags": []
   },
   "outputs": [],
   "source": []
  },
  {
   "cell_type": "markdown",
   "id": "e93a525b",
   "metadata": {
    "papermill": {
     "duration": null,
     "end_time": null,
     "exception": null,
     "start_time": null,
     "status": "pending"
    },
    "tags": []
   },
   "source": []
  },
  {
   "cell_type": "code",
   "execution_count": null,
   "id": "48c2e44f",
   "metadata": {
    "papermill": {
     "duration": null,
     "end_time": null,
     "exception": null,
     "start_time": null,
     "status": "pending"
    },
    "tags": []
   },
   "outputs": [],
   "source": [
    "# Paths to your training and validation datasets\n",
    "train_dir = 'path_to_training_data'\n",
    "val_dir = 'path_to_validation_data'\n",
    "\n",
    "# Create an ImageDataGenerator for data augmentation\n",
    "train_datagen = ImageDataGenerator(\n",
    "    rescale=1.0/255,  # Normalize pixel values to [0, 1]\n",
    "    rotation_range=20,  # Randomly rotate images by up to 20 degrees\n",
    "    width_shift_range=0.2,  # Randomly shift images horizontally by 20%\n",
    "    height_shift_range=0.2,  # Randomly shift images vertically by 20%\n",
    "    shear_range=0.2,  # Randomly apply shearing\n",
    "    zoom_range=0.2,  # Randomly zoom into images\n",
    "    horizontal_flip=True,  # Randomly flip images horizontally\n",
    "    fill_mode='nearest'  # Fill in pixels for rotated or shifted images\n",
    ")\n",
    "\n",
    "# Validation data generator (no augmentation for validation)\n",
    "val_datagen = ImageDataGenerator(rescale=1.0/255)\n",
    "\n",
    "# Load and augment data\n",
    "train_generator = train_datagen.flow_from_directory(\n",
    "    train_dir,\n",
    "    target_size=(150, 150),  # Resize all images to 150x150\n",
    "    batch_size=32,\n",
    "    class_mode='categorical'\n",
    ")\n",
    "\n",
    "val_generator = val_datagen.flow_from_directory(\n",
    "    val_dir,\n",
    "    target_size=(150, 150),\n",
    "    batch_size=32,\n",
    "    class_mode='categorical'\n",
    ")\n"
   ]
  },
  {
   "cell_type": "markdown",
   "id": "07e6886a",
   "metadata": {
    "papermill": {
     "duration": null,
     "end_time": null,
     "exception": null,
     "start_time": null,
     "status": "pending"
    },
    "tags": []
   },
   "source": [
    "#agument using pytorch "
   ]
  },
  {
   "cell_type": "code",
   "execution_count": null,
   "id": "08d5e1c6",
   "metadata": {
    "execution": {
     "iopub.execute_input": "2025-01-16T18:48:14.895871Z",
     "iopub.status.busy": "2025-01-16T18:48:14.895510Z",
     "iopub.status.idle": "2025-01-16T18:48:18.880603Z",
     "shell.execute_reply": "2025-01-16T18:48:18.879726Z",
     "shell.execute_reply.started": "2025-01-16T18:48:14.895846Z"
    },
    "papermill": {
     "duration": null,
     "end_time": null,
     "exception": null,
     "start_time": null,
     "status": "pending"
    },
    "tags": []
   },
   "outputs": [],
   "source": [
    "# Install required libraries\n",
    "!pip install torch torchvision albumentations timm pandas scikit-learn matplotlib tqdm torchmetrics opencv-python"
   ]
  },
  {
   "cell_type": "markdown",
   "id": "136018c0",
   "metadata": {
    "papermill": {
     "duration": null,
     "end_time": null,
     "exception": null,
     "start_time": null,
     "status": "pending"
    },
    "tags": []
   },
   "source": [
    "# importing "
   ]
  },
  {
   "cell_type": "code",
   "execution_count": null,
   "id": "b220c4c7",
   "metadata": {
    "execution": {
     "iopub.execute_input": "2025-01-16T18:49:22.180393Z",
     "iopub.status.busy": "2025-01-16T18:49:22.180040Z",
     "iopub.status.idle": "2025-01-16T18:49:22.673538Z",
     "shell.execute_reply": "2025-01-16T18:49:22.672523Z",
     "shell.execute_reply.started": "2025-01-16T18:49:22.180365Z"
    },
    "papermill": {
     "duration": null,
     "end_time": null,
     "exception": null,
     "start_time": null,
     "status": "pending"
    },
    "tags": []
   },
   "outputs": [],
   "source": [
    "import os\n",
    "import torch\n",
    "import torch.nn as nn\n",
    "import torch.optim as optim\n",
    "from torch.utils.data import DataLoader, Dataset, random_split\n",
    "import torchvision.transforms as transforms\n",
    "from torchvision.models import resnet50, efficientnet_v2_s\n",
    "from albumentations.pytorch import ToTensorV2\n",
    "import albumentations as A\n",
    "from sklearn.metrics import roc_auc_score, accuracy_score\n",
    "import pandas as pd\n",
    "import numpy as np\n",
    "from PIL import Image\n",
    "import cv2\n",
    "import matplotlib.pyplot as plt\n",
    "from tqdm import tqdm\n",
    "import timm"
   ]
  },
  {
   "cell_type": "markdown",
   "id": "cf93e107",
   "metadata": {
    "papermill": {
     "duration": null,
     "end_time": null,
     "exception": null,
     "start_time": null,
     "status": "pending"
    },
    "tags": []
   },
   "source": [
    "## 4. Advanced Custom Dataset Class\n",
    "> Here, we integrate OpenCV for image loading and Albumentations for augmentations."
   ]
  },
  {
   "cell_type": "code",
   "execution_count": null,
   "id": "9122451d",
   "metadata": {
    "papermill": {
     "duration": null,
     "end_time": null,
     "exception": null,
     "start_time": null,
     "status": "pending"
    },
    "tags": []
   },
   "outputs": [],
   "source": []
  },
  {
   "cell_type": "code",
   "execution_count": null,
   "id": "dd3c1e52",
   "metadata": {
    "execution": {
     "iopub.execute_input": "2025-01-16T18:50:19.239994Z",
     "iopub.status.busy": "2025-01-16T18:50:19.239633Z",
     "iopub.status.idle": "2025-01-16T18:50:19.245898Z",
     "shell.execute_reply": "2025-01-16T18:50:19.244996Z",
     "shell.execute_reply.started": "2025-01-16T18:50:19.239962Z"
    },
    "papermill": {
     "duration": null,
     "end_time": null,
     "exception": null,
     "start_time": null,
     "status": "pending"
    },
    "tags": []
   },
   "outputs": [],
   "source": [
    "class AdvancedImageDataset(Dataset):\n",
    "    def __init__(self, csv_file, img_dir, transform=None):\n",
    "        \"\"\"\n",
    "        Args:\n",
    "            csv_file (pd.DataFrame): Pandas DataFrame içindeki dosya adları ve etiketler.\n",
    "            img_dir (str): Görsellerin bulunduğu dizin.\n",
    "            transform (callable, optional): Görseller için dönüşüm/augmentasyon işlemleri.\n",
    "        \"\"\"\n",
    "        self.annotations = csv_file\n",
    "        self.img_dir = img_dir\n",
    "        self.transform = transform\n",
    "\n",
    "    def __len__(self):\n",
    "        return len(self.annotations)\n",
    "\n",
    "    def __getitem__(self, idx):\n",
    "        # Görsel yolunu alın\n",
    "        img_path = os.path.join(self.img_dir, self.annotations.iloc[idx, 0])\n",
    "        image = cv2.imread(img_path)\n",
    "        image = cv2.cvtColor(image, cv2.COLOR_BGR2RGB)  # OpenCV ile BGR -> RGB\n",
    "        # Etiketi alın\n",
    "        label = torch.tensor(self.annotations.iloc[idx, 1], dtype=torch.float32)\n",
    "\n",
    "        # Dönüşümleri uygulayın\n",
    "        if self.transform:\n",
    "            augmented = self.transform(image=image)\n",
    "            image = augmented['image']\n",
    "        \n",
    "        # Görüntü formatını `float32` yapın\n",
    "        image = image.float()\n",
    "        \n",
    "        return image, label"
   ]
  },
  {
   "cell_type": "code",
   "execution_count": null,
   "id": "fdb25c4e",
   "metadata": {
    "execution": {
     "iopub.execute_input": "2025-01-16T18:50:23.276571Z",
     "iopub.status.busy": "2025-01-16T18:50:23.276141Z",
     "iopub.status.idle": "2025-01-16T18:50:23.281433Z",
     "shell.execute_reply": "2025-01-16T18:50:23.280454Z",
     "shell.execute_reply.started": "2025-01-16T18:50:23.276533Z"
    },
    "papermill": {
     "duration": null,
     "end_time": null,
     "exception": null,
     "start_time": null,
     "status": "pending"
    },
    "tags": []
   },
   "outputs": [],
   "source": [
    "def get_transforms(img_size):\n",
    "    train_transform = A.Compose([\n",
    "        A.Resize(img_size, img_size),\n",
    "        A.HorizontalFlip(p=0.5),\n",
    "        A.RandomBrightnessContrast(p=0.2),\n",
    "        A.GaussianBlur(p=0.1),\n",
    "        A.CoarseDropout(max_holes=4, max_height=16, max_width=16, min_holes=1, min_height=8, min_width=8, fill_value=0, p=0.5),\n",
    "        ToTensorV2()\n",
    "    ])\n",
    "\n",
    "    valid_transform = A.Compose([\n",
    "        A.Resize(img_size, img_size),\n",
    "        ToTensorV2()\n",
    "    ])\n",
    "    return train_transform, valid_transform"
   ]
  },
  {
   "cell_type": "code",
   "execution_count": null,
   "id": "0a056d43",
   "metadata": {
    "execution": {
     "iopub.execute_input": "2025-01-16T18:50:45.699116Z",
     "iopub.status.busy": "2025-01-16T18:50:45.698787Z",
     "iopub.status.idle": "2025-01-16T18:50:45.704335Z",
     "shell.execute_reply": "2025-01-16T18:50:45.703321Z",
     "shell.execute_reply.started": "2025-01-16T18:50:45.699079Z"
    },
    "papermill": {
     "duration": null,
     "end_time": null,
     "exception": null,
     "start_time": null,
     "status": "pending"
    },
    "tags": []
   },
   "outputs": [],
   "source": [
    "class AdvancedModel(nn.Module):\n",
    "    def __init__(self, num_classes=1):\n",
    "        super(AdvancedModel, self).__init__()\n",
    "        # EfficientNet-B0 kullanımı\n",
    "        self.backbone = timm.create_model('efficientnet_b0', pretrained=True)\n",
    "        in_features = self.backbone.classifier.in_features\n",
    "        self.backbone.classifier = nn.Sequential(\n",
    "            nn.Linear(in_features, 512),\n",
    "            nn.ReLU(),\n",
    "            nn.Dropout(0.5),\n",
    "            nn.Linear(512, num_classes)\n",
    "        )\n",
    "\n",
    "    def forward(self, x):\n",
    "        return self.backbone(x)"
   ]
  },
  {
   "cell_type": "markdown",
   "id": "95bd7de2",
   "metadata": {
    "papermill": {
     "duration": null,
     "end_time": null,
     "exception": null,
     "start_time": null,
     "status": "pending"
    },
    "tags": []
   },
   "source": [
    "Training and Validation Functions¶\n",
    "Automatic Mixed Precision (AMP) and advanced metrics are added."
   ]
  },
  {
   "cell_type": "code",
   "execution_count": null,
   "id": "51e32b34",
   "metadata": {
    "execution": {
     "iopub.execute_input": "2025-01-16T18:51:04.744042Z",
     "iopub.status.busy": "2025-01-16T18:51:04.743742Z",
     "iopub.status.idle": "2025-01-16T18:51:04.751748Z",
     "shell.execute_reply": "2025-01-16T18:51:04.750783Z",
     "shell.execute_reply.started": "2025-01-16T18:51:04.744018Z"
    },
    "papermill": {
     "duration": null,
     "end_time": null,
     "exception": null,
     "start_time": null,
     "status": "pending"
    },
    "tags": []
   },
   "outputs": [],
   "source": [
    "def train_one_epoch(model, train_loader, criterion, optimizer, scheduler, scaler, device):\n",
    "    model.train()\n",
    "    running_loss = 0.0\n",
    "\n",
    "    for images, labels in tqdm(train_loader):\n",
    "        images, labels = images.to(device, dtype=torch.float32), labels.to(device, dtype=torch.float32).unsqueeze(1)\n",
    "\n",
    "        optimizer.zero_grad()\n",
    "        with torch.amp.autocast(device_type='cuda'):  # AMP için güncelleme\n",
    "            outputs = model(images)\n",
    "            loss = criterion(outputs, labels)\n",
    "\n",
    "        scaler.scale(loss).backward()\n",
    "        scaler.step(optimizer)\n",
    "        scaler.update()\n",
    "        scheduler.step()\n",
    "\n",
    "        running_loss += loss.item() * images.size(0)\n",
    "\n",
    "    return running_loss / len(train_loader.dataset)\n",
    "\n",
    "def validate(model, val_loader, criterion, device):\n",
    "    model.eval()\n",
    "    running_loss = 0.0\n",
    "    all_labels = []\n",
    "    all_outputs = []\n",
    "\n",
    "    with torch.no_grad():\n",
    "        for images, labels in tqdm(val_loader):\n",
    "            images, labels = images.to(device, dtype=torch.float32), labels.to(device, dtype=torch.float32).unsqueeze(1)\n",
    "\n",
    "            outputs = model(images)\n",
    "            loss = criterion(outputs, labels)\n",
    "\n",
    "            running_loss += loss.item() * images.size(0)\n",
    "            all_labels.append(labels.cpu().numpy())\n",
    "            all_outputs.append(torch.sigmoid(outputs).cpu().numpy())\n",
    "\n",
    "    epoch_loss = running_loss / len(val_loader.dataset)\n",
    "    all_labels = np.concatenate(all_labels)\n",
    "    all_outputs = np.concatenate(all_outputs)\n",
    "\n",
    "    return epoch_loss, all_labels, all_outputs"
   ]
  },
  {
   "cell_type": "markdown",
   "id": "c984d7e1",
   "metadata": {
    "papermill": {
     "duration": null,
     "end_time": null,
     "exception": null,
     "start_time": null,
     "status": "pending"
    },
    "tags": []
   },
   "source": [
    "Training Loop\n",
    "Added Early Stopping and advanced metrics logging."
   ]
  },
  {
   "cell_type": "code",
   "execution_count": null,
   "id": "0f129f4f",
   "metadata": {
    "execution": {
     "iopub.execute_input": "2025-01-16T18:51:37.860719Z",
     "iopub.status.busy": "2025-01-16T18:51:37.860395Z",
     "iopub.status.idle": "2025-01-16T18:51:37.867646Z",
     "shell.execute_reply": "2025-01-16T18:51:37.866778Z",
     "shell.execute_reply.started": "2025-01-16T18:51:37.860697Z"
    },
    "papermill": {
     "duration": null,
     "end_time": null,
     "exception": null,
     "start_time": null,
     "status": "pending"
    },
    "tags": []
   },
   "outputs": [],
   "source": [
    "def train_model(csv_file, img_dir, model, img_size, batch_size, lr, num_epochs, device, patience):\n",
    "    # Prepare data\n",
    "    train_transform, valid_transform = get_transforms(img_size)\n",
    "    train_dataset = AdvancedImageDataset(csv_file, img_dir, transform=train_transform)\n",
    "    val_dataset = AdvancedImageDataset(csv_file, img_dir, transform=valid_transform)\n",
    "\n",
    "    train_loader = DataLoader(train_dataset, batch_size=batch_size, shuffle=True)\n",
    "    val_loader = DataLoader(val_dataset, batch_size=batch_size, shuffle=False)\n",
    "\n",
    "    # Initialize model, optimizer, scheduler\n",
    "    model = model.to(device)\n",
    "    criterion = nn.BCEWithLogitsLoss()\n",
    "    optimizer = optim.AdamW(model.parameters(), lr=lr)\n",
    "    scheduler = torch.optim.lr_scheduler.CosineAnnealingLR(optimizer, T_max=10)\n",
    "    scaler = torch.cuda.amp.GradScaler()\n",
    "\n",
    "    best_auc = 0\n",
    "    early_stop_counter = 0\n",
    "\n",
    "    for epoch in range(num_epochs):\n",
    "        print(f\"Epoch {epoch+1}/{num_epochs}\")\n",
    "\n",
    "        train_loss = train_one_epoch(model, train_loader, criterion, optimizer, scheduler, scaler, device)\n",
    "        val_loss, val_labels, val_outputs = validate(model, val_loader, criterion, device)\n",
    "\n",
    "        val_auc = roc_auc_score(val_labels, val_outputs)\n",
    "        print(f\"Train Loss: {train_loss:.4f}, Val Loss: {val_loss:.4f}, Val AUC: {val_auc:.4f}\")\n",
    "\n",
    "        # Early Stopping\n",
    "        if val_auc > best_auc:\n",
    "            best_auc = val_auc\n",
    "            torch.save(model.state_dict(), \"best_model.pth\")\n",
    "            early_stop_counter = 0\n",
    "        else:\n",
    "            early_stop_counter += 1\n",
    "\n",
    "        if early_stop_counter >= patience:\n",
    "            print(\"Early stopping triggered.\")\n",
    "            break"
   ]
  },
  {
   "cell_type": "code",
   "execution_count": null,
   "id": "751ea846",
   "metadata": {
    "execution": {
     "iopub.execute_input": "2025-01-16T18:51:42.779581Z",
     "iopub.status.busy": "2025-01-16T18:51:42.779287Z",
     "iopub.status.idle": "2025-01-16T18:51:42.785000Z",
     "shell.execute_reply": "2025-01-16T18:51:42.784124Z",
     "shell.execute_reply.started": "2025-01-16T18:51:42.779559Z"
    },
    "papermill": {
     "duration": null,
     "end_time": null,
     "exception": null,
     "start_time": null,
     "status": "pending"
    },
    "tags": []
   },
   "outputs": [],
   "source": [
    "def predict(csv_file, img_dir, model, img_size, batch_size, device):\n",
    "    # Test dönüşümleri\n",
    "    test_transform = A.Compose([\n",
    "        A.Resize(img_size, img_size),\n",
    "        ToTensorV2()\n",
    "    ])\n",
    "\n",
    "    # Dataset ve DataLoader oluşturma\n",
    "    test_dataset = AdvancedImageDataset(csv_file, img_dir, transform=test_transform)\n",
    "    test_loader = DataLoader(test_dataset, batch_size=batch_size, shuffle=False)\n",
    "\n",
    "    # Modeli yükle ve değerlendirme moduna al\n",
    "    model.load_state_dict(torch.load(\"best_model.pth\"))\n",
    "    model.eval()\n",
    "    predictions = []\n",
    "\n",
    "    with torch.no_grad():\n",
    "        for images, _ in tqdm(test_loader):\n",
    "            # Görselleri uygun veri türüne dönüştür\n",
    "            images = images.to(device, dtype=torch.float32)\n",
    "            \n",
    "            # Model tahminleri\n",
    "            outputs = model(images)\n",
    "            predictions.extend(torch.sigmoid(outputs).cpu().numpy())\n",
    "\n",
    "    return predictions"
   ]
  },
  {
   "cell_type": "markdown",
   "id": "c9621514",
   "metadata": {
    "papermill": {
     "duration": null,
     "end_time": null,
     "exception": null,
     "start_time": null,
     "status": "pending"
    },
    "tags": []
   },
   "source": [
    "## 10. Running the Code\n",
    "> Use this section to train the model and make predictions."
   ]
  },
  {
   "cell_type": "code",
   "execution_count": null,
   "id": "48362a84",
   "metadata": {
    "papermill": {
     "duration": null,
     "end_time": null,
     "exception": null,
     "start_time": null,
     "status": "pending"
    },
    "tags": []
   },
   "outputs": [],
   "source": [
    "# Step 1: Load and map training labels\n",
    "# Map the \"editada\" label to 0 (fake) and \"real\" to 1 (real)\n",
    "labels = pd.read_csv(\"/kaggle/input/cidaut-ai-fake-scene-classification-2024/train.csv\")\n",
    "labels['label'] = labels['label'].map({\"editada\": 0, \"real\": 1})  # Binary classification labels\n",
    "\n",
    "# Step 2: Define image directory and device\n",
    "# Define the directory containing training images and check for GPU availability\n",
    "img_dir = \"/kaggle/input/cidaut-ai-fake-scene-classification-2024/Train\"\n",
    "model = AdvancedModel(num_classes=1)\n",
    "device = \"cuda\" if torch.cuda.is_available() else \"cpu\"\n",
    "\n",
    "# Step 3: Train the model\n",
    "# Train the advanced model with defined parameters\n",
    "train_model(\n",
    "    labels, \n",
    "    img_dir, \n",
    "    model, \n",
    "    img_size=224, \n",
    "    batch_size=32, \n",
    "    lr=1e-4, \n",
    "    num_epochs=20, \n",
    "    device=device, \n",
    "    patience=3\n",
    ")\n",
    "\n",
    "# Step 4: Load test labels\n",
    "# Read the test file and prepare it for predictions\n",
    "test_labels = pd.read_csv(\"/kaggle/input/cidaut-ai-fake-scene-classification-2024/sample_submission.csv\")\n",
    "test_img_dir = \"/kaggle/input/cidaut-ai-fake-scene-classification-2024/Test\"\n",
    "\n",
    "# Step 5: Generate predictions\n",
    "# Use the predict function to infer probabilities for test images\n",
    "predictions = predict(\n",
    "    test_labels, \n",
    "    test_img_dir, \n",
    "    model, \n",
    "    img_size=224, \n",
    "    batch_size=32, \n",
    "    device=device\n",
    ")\n",
    "\n",
    "# Step 6: Update test labels with predictions\n",
    "# Add the predictions to the DataFrame and ensure the column is float type\n",
    "test_labels['label'] = predictions\n",
    "test_labels['label'] = test_labels['label'].astype(float)  # Ensure correct data type for submission\n",
    "\n",
    "# Step 7: Save the submission file\n",
    "# Save the test labels as submission.csv in the required format\n",
    "test_labels.to_csv(\"submission.csv\", index=False)"
   ]
  },
  {
   "cell_type": "markdown",
   "id": "35124a50",
   "metadata": {
    "papermill": {
     "duration": null,
     "end_time": null,
     "exception": null,
     "start_time": null,
     "status": "pending"
    },
    "tags": []
   },
   "source": [
    "#GMM"
   ]
  },
  {
   "cell_type": "code",
   "execution_count": null,
   "id": "bc408a59",
   "metadata": {
    "execution": {
     "iopub.execute_input": "2025-01-16T18:06:37.781154Z",
     "iopub.status.busy": "2025-01-16T18:06:37.780735Z",
     "iopub.status.idle": "2025-01-16T18:06:41.471692Z",
     "shell.execute_reply": "2025-01-16T18:06:41.470677Z",
     "shell.execute_reply.started": "2025-01-16T18:06:37.781109Z"
    },
    "papermill": {
     "duration": null,
     "end_time": null,
     "exception": null,
     "start_time": null,
     "status": "pending"
    },
    "tags": []
   },
   "outputs": [],
   "source": [
    "!pip install scikit-image==0.24.0\n"
   ]
  },
  {
   "cell_type": "code",
   "execution_count": null,
   "id": "25746142",
   "metadata": {
    "execution": {
     "iopub.execute_input": "2025-01-16T18:06:45.917373Z",
     "iopub.status.busy": "2025-01-16T18:06:45.917009Z",
     "iopub.status.idle": "2025-01-16T18:06:52.919302Z",
     "shell.execute_reply": "2025-01-16T18:06:52.918157Z",
     "shell.execute_reply.started": "2025-01-16T18:06:45.917339Z"
    },
    "papermill": {
     "duration": null,
     "end_time": null,
     "exception": null,
     "start_time": null,
     "status": "pending"
    },
    "tags": []
   },
   "outputs": [],
   "source": [
    "!pip install nltk==3.2.4\n"
   ]
  },
  {
   "cell_type": "code",
   "execution_count": null,
   "id": "ef0d6224",
   "metadata": {
    "execution": {
     "iopub.execute_input": "2025-01-16T18:07:00.587489Z",
     "iopub.status.busy": "2025-01-16T18:07:00.587017Z",
     "iopub.status.idle": "2025-01-16T18:07:07.559487Z",
     "shell.execute_reply": "2025-01-16T18:07:07.558383Z",
     "shell.execute_reply.started": "2025-01-16T18:07:00.587448Z"
    },
    "papermill": {
     "duration": null,
     "end_time": null,
     "exception": null,
     "start_time": null,
     "status": "pending"
    },
    "tags": []
   },
   "outputs": [],
   "source": [
    "!pip install --upgrade autogluon\n"
   ]
  },
  {
   "cell_type": "code",
   "execution_count": null,
   "id": "1109b5c6",
   "metadata": {
    "execution": {
     "iopub.execute_input": "2025-01-16T18:07:13.837728Z",
     "iopub.status.busy": "2025-01-16T18:07:13.837432Z",
     "iopub.status.idle": "2025-01-16T18:07:13.867593Z",
     "shell.execute_reply": "2025-01-16T18:07:13.866395Z",
     "shell.execute_reply.started": "2025-01-16T18:07:13.837707Z"
    },
    "papermill": {
     "duration": null,
     "end_time": null,
     "exception": null,
     "start_time": null,
     "status": "pending"
    },
    "tags": []
   },
   "outputs": [],
   "source": [
    "import autogluon.multimodal as agmm\n",
    "# from PIL import Image, ImageStat"
   ]
  },
  {
   "cell_type": "code",
   "execution_count": null,
   "id": "233fdb8e",
   "metadata": {
    "execution": {
     "iopub.execute_input": "2025-01-16T18:10:42.088962Z",
     "iopub.status.busy": "2025-01-16T18:10:42.088652Z",
     "iopub.status.idle": "2025-01-16T18:10:45.781919Z",
     "shell.execute_reply": "2025-01-16T18:10:45.780791Z",
     "shell.execute_reply.started": "2025-01-16T18:10:42.088939Z"
    },
    "papermill": {
     "duration": null,
     "end_time": null,
     "exception": null,
     "start_time": null,
     "status": "pending"
    },
    "tags": []
   },
   "outputs": [],
   "source": [
    "!pip install h2o\n"
   ]
  },
  {
   "cell_type": "code",
   "execution_count": null,
   "id": "7437e5c1",
   "metadata": {
    "execution": {
     "iopub.execute_input": "2025-01-16T18:10:46.288877Z",
     "iopub.status.busy": "2025-01-16T18:10:46.288523Z",
     "iopub.status.idle": "2025-01-16T18:10:53.968112Z",
     "shell.execute_reply": "2025-01-16T18:10:53.966969Z",
     "shell.execute_reply.started": "2025-01-16T18:10:46.288849Z"
    },
    "papermill": {
     "duration": null,
     "end_time": null,
     "exception": null,
     "start_time": null,
     "status": "pending"
    },
    "tags": []
   },
   "outputs": [],
   "source": [
    "import h2o\n",
    "from h2o.automl import H2OAutoML\n",
    "\n",
    "# Initialize H2O cluster\n",
    "h2o.init()\n"
   ]
  },
  {
   "cell_type": "code",
   "execution_count": null,
   "id": "605c78b7",
   "metadata": {
    "execution": {
     "iopub.execute_input": "2025-01-16T18:17:28.452452Z",
     "iopub.status.busy": "2025-01-16T18:17:28.452097Z",
     "iopub.status.idle": "2025-01-16T18:17:28.482828Z",
     "shell.execute_reply": "2025-01-16T18:17:28.481645Z",
     "shell.execute_reply.started": "2025-01-16T18:17:28.452423Z"
    },
    "papermill": {
     "duration": null,
     "end_time": null,
     "exception": null,
     "start_time": null,
     "status": "pending"
    },
    "tags": []
   },
   "outputs": [],
   "source": [
    "# Convert the NumPy arrays to a pandas DataFrame\n",
    "X2_df = pd.DataFrame(X2)  # Assuming X2 is a NumPy array\n",
    "# X2_df['label'] = y  # Add the target variable to the DataFrame\n",
    "\n",
    "# Convert your Pandas DataFrame (X) and Series (y) into H2OFrames\n",
    "X_h2o = h2o.H2OFrame(X2)\n",
    "y_h2o = h2o.H2OFrame(pd.DataFrame(y))\n",
    "\n",
    "# Add the target column ('label') to X\n",
    "X_h2o['label'] = y_h2o\n",
    "\n",
    "# Split the dataset into train and test sets\n",
    "train, test = X_h2o.split_frame(ratios=[0.8], seed=1234)\n",
    "\n",
    "# Specify the target column and features\n",
    "target = 'label'\n",
    "features = X_h2o.columns\n",
    "features.remove(target)\n",
    "\n",
    "# Train the AutoML model\n",
    "aml = H2OAutoML(max_models=20, seed=1)\n",
    "aml.train(x=features, y=target, training_frame=train)\n",
    "\n",
    "# Get the leaderboard\n",
    "lb = aml.leaderboard\n",
    "print(lb)\n",
    "\n",
    "# Make predictions on the test set\n",
    "predictions = aml.predict(test)\n",
    "\n",
    "# Optionally, evaluate the model\n",
    "perf = aml.leader.model_performance(test)\n",
    "print(perf)"
   ]
  }
 ],
 "metadata": {
  "kaggle": {
   "accelerator": "gpu",
   "dataSources": [
    {
     "databundleVersionId": 9934427,
     "sourceId": 87323,
     "sourceType": "competition"
    }
   ],
   "dockerImageVersionId": 30840,
   "isGpuEnabled": true,
   "isInternetEnabled": true,
   "language": "python",
   "sourceType": "notebook"
  },
  "kernelspec": {
   "display_name": "Python 3",
   "language": "python",
   "name": "python3"
  },
  "language_info": {
   "codemirror_mode": {
    "name": "ipython",
    "version": 3
   },
   "file_extension": ".py",
   "mimetype": "text/x-python",
   "name": "python",
   "nbconvert_exporter": "python",
   "pygments_lexer": "ipython3",
   "version": "3.10.12"
  },
  "papermill": {
   "default_parameters": {},
   "duration": 38.763998,
   "end_time": "2025-01-16T19:18:24.894449",
   "environment_variables": {},
   "exception": true,
   "input_path": "__notebook__.ipynb",
   "output_path": "__notebook__.ipynb",
   "parameters": {},
   "start_time": "2025-01-16T19:17:46.130451",
   "version": "2.6.0"
  }
 },
 "nbformat": 4,
 "nbformat_minor": 5
}
